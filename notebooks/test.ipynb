{
 "cells": [
  {
   "cell_type": "code",
   "execution_count": 1,
   "metadata": {},
   "outputs": [],
   "source": [
    "#imports from Standard Libray"
   ]
  },
  {
   "cell_type": "code",
   "execution_count": 2,
   "metadata": {},
   "outputs": [],
   "source": [
    "#Other imports from library\n",
    "import resources #Must be 1st line\n",
    "from blcalc import root_dir\n",
    "from blcalc.excel_load import BoreholeDataSheets\n",
    "from blcalc.borehole_parser import BoreholeLog"
   ]
  },
  {
   "cell_type": "markdown",
   "metadata": {},
   "source": [
    "## Sample Calculation"
   ]
  },
  {
   "cell_type": "code",
   "execution_count": 3,
   "metadata": {},
   "outputs": [],
   "source": [
    "filepath = resources.test_data_dir() / \"bh1.xls\""
   ]
  },
  {
   "cell_type": "markdown",
   "metadata": {},
   "source": [
    "<img src=\"../doc/excel_screenshot/excel_sheet.png\">"
   ]
  },
  {
   "cell_type": "code",
   "execution_count": 4,
   "metadata": {},
   "outputs": [],
   "source": [
    "#Parse it first\n",
    "sheets = BoreholeDataSheets.load_file(str(filepath.resolve()))"
   ]
  },
  {
   "cell_type": "code",
   "execution_count": 5,
   "metadata": {},
   "outputs": [],
   "source": [
    "#Parse 1st sheet\n",
    "keys = list(sheets.keys())\n",
    "sheet = sheets[keys[0]]\n",
    "borehole_log = BoreholeLog(sheet)"
   ]
  },
  {
   "cell_type": "code",
   "execution_count": 6,
   "metadata": {},
   "outputs": [
    {
     "data": {
      "text/plain": [
       "{'project name': '<REMOVED>',\n",
       " 'location': 'Bhainsepati, Lalitpur',\n",
       " 'bore hole no': '1.0',\n",
       " 'diameter of bh, mm': '100.0',\n",
       " 'date': '<REMOVED>',\n",
       " 'logged by': '<REMOVED>',\n",
       " 'checked by': '<REMOVED>',\n",
       " 'certified by': '<REMOVED>'}"
      ]
     },
     "execution_count": 6,
     "metadata": {},
     "output_type": "execute_result"
    }
   ],
   "source": [
    "#Attributes obtained from data\n",
    "borehole_log.attributes"
   ]
  },
  {
   "cell_type": "code",
   "execution_count": 7,
   "metadata": {},
   "outputs": [
    {
     "data": {
      "text/plain": [
       "[{'depth': 1.5, 'spt': 11.0, 'GI': 'ML'},\n",
       " {'depth': 2.5, 'spt': 15.0, 'GI': 'ML'},\n",
       " {'depth': 3.0, 'spt': 17.0, 'GI': 'ML'},\n",
       " {'depth': 4.5, 'spt': 24.0, 'GI': 'GM'},\n",
       " {'depth': 6.0, 'spt': 27.0, 'GI': 'GM'},\n",
       " {'depth': 7.5, 'spt': 32.0, 'GI': 'GM'},\n",
       " {'depth': 9.0, 'spt': 36.0, 'GI': 'MG'},\n",
       " {'depth': 10.5, 'spt': 36.0, 'GI': 'GM'},\n",
       " {'depth': 12.0, 'spt': 37.0, 'GI': 'GM'}]"
      ]
     },
     "execution_count": 7,
     "metadata": {},
     "output_type": "execute_result"
    }
   ],
   "source": [
    "borehole_log.values\n",
    "#Check depth 2.5 also exists which is obtained by interpolation"
   ]
  }
 ],
 "metadata": {
  "kernelspec": {
   "display_name": "Python 3",
   "language": "python",
   "name": "python3"
  },
  "language_info": {
   "codemirror_mode": {
    "name": "ipython",
    "version": 3
   },
   "file_extension": ".py",
   "mimetype": "text/x-python",
   "name": "python",
   "nbconvert_exporter": "python",
   "pygments_lexer": "ipython3",
   "version": "3.7.2"
  }
 },
 "nbformat": 4,
 "nbformat_minor": 4
}
