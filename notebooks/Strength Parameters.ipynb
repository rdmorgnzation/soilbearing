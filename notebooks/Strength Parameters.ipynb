{
 "cells": [
  {
   "cell_type": "markdown",
   "metadata": {},
   "source": [
    "Lets check N60 and their corresponding shear strength"
   ]
  },
  {
   "cell_type": "markdown",
   "metadata": {},
   "source": [
    "<h3>C</h3>\n",
    "Expected:\n",
    "<table>\n",
    "    <tr><th>N60</th><th>q<sub>u</sub></th></tr>\n",
    "    <tr><td>&lt;2</td><td>&lt;25</td></tr>\n",
    "    <tr><td>2-8</td><td>25-80</td></tr>\n",
    "    <tr><td>8-15</td><td>80-150</td></tr>\n",
    "    <tr><td>15-30</td><td>150-400</td></tr>\n",
    "    <tr><td>&gt;30</td><td>&gt;400</td></tr>\n",
    "</table>"
   ]
  },
  {
   "cell_type": "code",
   "execution_count": 1,
   "metadata": {},
   "outputs": [],
   "source": [
    "import resources #Must be 1st line\n",
    "import pandas as pd\n",
    "from blcalc.material import Material"
   ]
  },
  {
   "cell_type": "markdown",
   "metadata": {},
   "source": [
    "Note: The unconfined compressive strength value is two times undrained shear strength. The\n",
    "ultimate bearing capacity is approximately six times the undrained shear strength where C in\n",
    "CNc is the undrained shear strength. The value of Nc is 5.14 and 5.7 respectively by\n",
    "Meyerhof and Terzaghi."
   ]
  },
  {
   "cell_type": "code",
   "execution_count": null,
   "metadata": {},
   "outputs": [],
   "source": [
    "datas = {'N60': [], 'qu': [], 'c': [], 'c_program': []}\n",
    "for N60 in range(32):\n",
    "    datas['N60'].append(N60)\n",
    "    qu=Material.qu(N60)\n",
    "    datas['qu'].append(qu)\n",
    "    datas['c'].append(qu/2)\n",
    "    mat=Material({'depth':0,'n60':N60, 'GI':'C'})\n",
    "    datas['c_program'].append(mat._get_cu())\n",
    "pd.DataFrame(datas)"
   ]
  },
  {
   "cell_type": "markdown",
   "metadata": {},
   "source": [
    "<span style=\"color:red\">Check failed</span>"
   ]
  },
  {
   "cell_type": "markdown",
   "metadata": {},
   "source": [
    "<h3>Phi</h3>\n",
    "Expected:\n",
    "<table>\n",
    "    <tr><th>N60</th><th>phi</th></tr>\n",
    "    <tr><td>&lt;4</td><td>&lt;30</td></tr>\n",
    "    <tr><td>4-10</td><td>30-35</td></tr>\n",
    "    <tr><td>10-30</td><td>35-40</td></tr>\n",
    "    <tr><td>30-50</td><td>40-45</td></tr>\n",
    "    <tr><td>&gt;50</td><td>&gt;45</td></tr>\n",
    "</table>"
   ]
  },
  {
   "cell_type": "code",
   "execution_count": null,
   "metadata": {},
   "outputs": [],
   "source": [
    "datas = {'N60': [], 'phi': [], 'phi_program': []}\n",
    "for N60 in range(0, 60, 5):\n",
    "    datas['N60'].append(N60)\n",
    "    datas['phi'].append(Material.phi(N60))\n",
    "    mat=Material({'depth':0,'n60':N60, 'GI':'S'})\n",
    "    datas['phi_program'].append(mat._get_phi())\n",
    "pd.DataFrame(datas)"
   ]
  },
  {
   "cell_type": "markdown",
   "metadata": {},
   "source": [
    "<span style=\"color:red\">Check failed</span>"
   ]
  }
 ],
 "metadata": {
  "kernelspec": {
   "display_name": "Python 3",
   "language": "python",
   "name": "python3"
  },
  "language_info": {
   "codemirror_mode": {
    "name": "ipython",
    "version": 3
   },
   "file_extension": ".py",
   "mimetype": "text/x-python",
   "name": "python",
   "nbconvert_exporter": "python",
   "pygments_lexer": "ipython3",
   "version": "3.8.2"
  }
 },
 "nbformat": 4,
 "nbformat_minor": 4
}
