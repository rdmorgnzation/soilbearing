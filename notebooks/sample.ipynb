{
 "cells": [
  {
   "cell_type": "markdown",
   "metadata": {},
   "source": [
    "# Sample calculation\n",
    "[https://github.com/rdmorgnzation/soilbearing/blob/main/notebooks/sample.ipynb](https://github.com/rdmorgnzation/soilbearing/blob/main/notebooks/sample.ipynb)"
   ]
  },
  {
   "cell_type": "code",
   "execution_count": 1,
   "metadata": {},
   "outputs": [],
   "source": [
    "#Other imports from library\n",
    "import resources #Must be 1st line\n",
    "from blcalc import root_dir\n",
    "from blcalc.excel_load import BoreholeDataSheets\n",
    "from blcalc.borehole_parser import BoreholeLog\n",
    "from blcalc.material import LayerSoil, MaterialData\n",
    "from blcalc.footing import Footing, FootingType, FootingData\n",
    "from blcalc.assembly import Assembly\n",
    "from blcalc.solver import Solver, Methods\n",
    "from blcalc.geocode import GeoCoder\n",
    "import pandas as pd\n",
    "from blcalc.soilproperty import SoilProperty"
   ]
  },
  {
   "cell_type": "code",
   "execution_count": 2,
   "metadata": {},
   "outputs": [],
   "source": [
    "filepath = resources.test_data_dir() / \"bh1.xls\""
   ]
  },
  {
   "cell_type": "markdown",
   "metadata": {},
   "source": [
    "#### Borehole log:\n",
    "[https://github.com/rdmorgnzation/soilbearing/blob/main/media/media/testdata/bh1.xls](https://github.com/rdmorgnzation/soilbearing/blob/main/media/media/testdata/bh1.xls)\n",
    "<img src=\"./excel_screenshot/1.png\">\n",
    "<img src=\"./excel_screenshot/2.png\">\n",
    "<img src=\"./excel_screenshot/3.png\">\n",
    "#### Summary sheet:\n",
    "[https://github.com/rdmorgnzation/soilbearing/blob/main/media/media/testdata/ss.xls](https://github.com/rdmorgnzation/soilbearing/blob/main/media/media/testdata/ss.xls)\n",
    "<img src=\"./excel_screenshot/ss.png\">"
   ]
  },
  {
   "cell_type": "code",
   "execution_count": 3,
   "metadata": {},
   "outputs": [],
   "source": [
    "#Parse it first\n",
    "sheets = BoreholeDataSheets.load_file(str(filepath.resolve()))"
   ]
  },
  {
   "cell_type": "code",
   "execution_count": 4,
   "metadata": {},
   "outputs": [],
   "source": [
    "#Parse 1st sheet\n",
    "keys = list(sheets.keys())\n",
    "sheet = sheets[keys[0]]\n",
    "borehole_log = BoreholeLog(sheet)"
   ]
  },
  {
   "cell_type": "code",
   "execution_count": 5,
   "metadata": {},
   "outputs": [
    {
     "data": {
      "text/html": [
       "<div>\n",
       "<style scoped>\n",
       "    .dataframe tbody tr th:only-of-type {\n",
       "        vertical-align: middle;\n",
       "    }\n",
       "\n",
       "    .dataframe tbody tr th {\n",
       "        vertical-align: top;\n",
       "    }\n",
       "\n",
       "    .dataframe thead th {\n",
       "        text-align: right;\n",
       "    }\n",
       "</style>\n",
       "<table border=\"1\" class=\"dataframe\">\n",
       "  <thead>\n",
       "    <tr style=\"text-align: right;\">\n",
       "      <th></th>\n",
       "      <th>0</th>\n",
       "    </tr>\n",
       "  </thead>\n",
       "  <tbody>\n",
       "    <tr>\n",
       "      <th>project</th>\n",
       "      <td>Soil Investigation of Proposed Rastriya Banijy...</td>\n",
       "    </tr>\n",
       "    <tr>\n",
       "      <th>location</th>\n",
       "      <td>Thapathali, Kathmandu</td>\n",
       "    </tr>\n",
       "    <tr>\n",
       "      <th>consultants</th>\n",
       "      <td>&lt;Removed&gt;</td>\n",
       "    </tr>\n",
       "    <tr>\n",
       "      <th>bore hole no</th>\n",
       "      <td>BH-1</td>\n",
       "    </tr>\n",
       "    <tr>\n",
       "      <th>diameter of bh, mm</th>\n",
       "      <td>100 mm</td>\n",
       "    </tr>\n",
       "    <tr>\n",
       "      <th>rl of gwt</th>\n",
       "      <td>1.50 m</td>\n",
       "    </tr>\n",
       "    <tr>\n",
       "      <th>date</th>\n",
       "      <td>&lt;Removed&gt;</td>\n",
       "    </tr>\n",
       "    <tr>\n",
       "      <th>logged by</th>\n",
       "      <td>&lt;Removed&gt;</td>\n",
       "    </tr>\n",
       "    <tr>\n",
       "      <th>checked by</th>\n",
       "      <td>&lt;Removed&gt;</td>\n",
       "    </tr>\n",
       "    <tr>\n",
       "      <th>certified by</th>\n",
       "      <td>&lt;Removed&gt;</td>\n",
       "    </tr>\n",
       "  </tbody>\n",
       "</table>\n",
       "</div>"
      ],
      "text/plain": [
       "                                                                    0\n",
       "project             Soil Investigation of Proposed Rastriya Banijy...\n",
       "location                                        Thapathali, Kathmandu\n",
       "consultants                                                 <Removed>\n",
       "bore hole no                                                     BH-1\n",
       "diameter of bh, mm                                             100 mm\n",
       "rl of gwt                                                      1.50 m\n",
       "date                                                        <Removed>\n",
       "logged by                                                   <Removed>\n",
       "checked by                                                  <Removed>\n",
       "certified by                                                <Removed>"
      ]
     },
     "execution_count": 5,
     "metadata": {},
     "output_type": "execute_result"
    }
   ],
   "source": [
    "#Attributes obtained from data\n",
    "pd.DataFrame.from_dict(borehole_log.attributes, orient='index')"
   ]
  },
  {
   "cell_type": "code",
   "execution_count": 6,
   "metadata": {},
   "outputs": [
    {
     "data": {
      "text/html": [
       "<div>\n",
       "<style scoped>\n",
       "    .dataframe tbody tr th:only-of-type {\n",
       "        vertical-align: middle;\n",
       "    }\n",
       "\n",
       "    .dataframe tbody tr th {\n",
       "        vertical-align: top;\n",
       "    }\n",
       "\n",
       "    .dataframe thead th {\n",
       "        text-align: right;\n",
       "    }\n",
       "</style>\n",
       "<table border=\"1\" class=\"dataframe\">\n",
       "  <thead>\n",
       "    <tr style=\"text-align: right;\">\n",
       "      <th></th>\n",
       "      <th>SoilProperty.depth</th>\n",
       "      <th>SoilProperty.SPT_N</th>\n",
       "      <th>SoilProperty.GI</th>\n",
       "    </tr>\n",
       "  </thead>\n",
       "  <tbody>\n",
       "    <tr>\n",
       "      <th>0</th>\n",
       "      <td>1.5</td>\n",
       "      <td>4.0</td>\n",
       "      <td>FM</td>\n",
       "    </tr>\n",
       "    <tr>\n",
       "      <th>1</th>\n",
       "      <td>3.0</td>\n",
       "      <td>6.0</td>\n",
       "      <td>FM</td>\n",
       "    </tr>\n",
       "    <tr>\n",
       "      <th>2</th>\n",
       "      <td>4.5</td>\n",
       "      <td>7.0</td>\n",
       "      <td>MI</td>\n",
       "    </tr>\n",
       "    <tr>\n",
       "      <th>3</th>\n",
       "      <td>6.0</td>\n",
       "      <td>9.0</td>\n",
       "      <td>MI</td>\n",
       "    </tr>\n",
       "    <tr>\n",
       "      <th>4</th>\n",
       "      <td>7.5</td>\n",
       "      <td>9.0</td>\n",
       "      <td>MI</td>\n",
       "    </tr>\n",
       "    <tr>\n",
       "      <th>5</th>\n",
       "      <td>9.0</td>\n",
       "      <td>10.0</td>\n",
       "      <td>MI</td>\n",
       "    </tr>\n",
       "    <tr>\n",
       "      <th>6</th>\n",
       "      <td>10.5</td>\n",
       "      <td>10.0</td>\n",
       "      <td>MI</td>\n",
       "    </tr>\n",
       "    <tr>\n",
       "      <th>7</th>\n",
       "      <td>12.0</td>\n",
       "      <td>10.0</td>\n",
       "      <td>MI</td>\n",
       "    </tr>\n",
       "    <tr>\n",
       "      <th>8</th>\n",
       "      <td>13.5</td>\n",
       "      <td>10.0</td>\n",
       "      <td>MI</td>\n",
       "    </tr>\n",
       "    <tr>\n",
       "      <th>9</th>\n",
       "      <td>15.0</td>\n",
       "      <td>10.0</td>\n",
       "      <td>MI</td>\n",
       "    </tr>\n",
       "    <tr>\n",
       "      <th>10</th>\n",
       "      <td>16.5</td>\n",
       "      <td>11.0</td>\n",
       "      <td>MI</td>\n",
       "    </tr>\n",
       "    <tr>\n",
       "      <th>11</th>\n",
       "      <td>18.0</td>\n",
       "      <td>11.0</td>\n",
       "      <td>MI</td>\n",
       "    </tr>\n",
       "    <tr>\n",
       "      <th>12</th>\n",
       "      <td>19.5</td>\n",
       "      <td>11.0</td>\n",
       "      <td>MI</td>\n",
       "    </tr>\n",
       "  </tbody>\n",
       "</table>\n",
       "</div>"
      ],
      "text/plain": [
       "    SoilProperty.depth  SoilProperty.SPT_N SoilProperty.GI\n",
       "0                  1.5                 4.0              FM\n",
       "1                  3.0                 6.0              FM\n",
       "2                  4.5                 7.0              MI\n",
       "3                  6.0                 9.0              MI\n",
       "4                  7.5                 9.0              MI\n",
       "5                  9.0                10.0              MI\n",
       "6                 10.5                10.0              MI\n",
       "7                 12.0                10.0              MI\n",
       "8                 13.5                10.0              MI\n",
       "9                 15.0                10.0              MI\n",
       "10                16.5                11.0              MI\n",
       "11                18.0                11.0              MI\n",
       "12                19.5                11.0              MI"
      ]
     },
     "execution_count": 6,
     "metadata": {},
     "output_type": "execute_result"
    }
   ],
   "source": [
    "#Parsed values\n",
    "layer=borehole_log.values\n",
    "#Here i am removing the last value since we used values <20 only,\n",
    "# For liquefaction. I am trying to get same result as in report\n",
    "layer = list(filter(lambda x:x[SoilProperty.depth]<20.,layer))\n",
    "layer = list(filter(lambda x:x[SoilProperty.depth]%1.5==0,layer))\n",
    "#just for consistancy\n",
    "pd.DataFrame.from_records(layer)"
   ]
  },
  {
   "cell_type": "markdown",
   "metadata": {},
   "source": [
    "#### Geocoding"
   ]
  },
  {
   "cell_type": "code",
   "execution_count": 7,
   "metadata": {},
   "outputs": [
    {
     "name": "stdout",
     "output_type": "stream",
     "text": [
      "Latitude:  27.6965195 (27.655862)\n",
      "Longitude:  85.30662 (85.3064456)\n"
     ]
    }
   ],
   "source": [
    "geocoder = GeoCoder()\n",
    "result= geocoder.fetch_geo('Rastriya Banijya Bank, Thapathali, Kathmandu')\n",
    "#Or use google maps to get result\n",
    "if result:\n",
    "    print('Latitude: ', result[0], '(27.655862)')\n",
    "    print('Longitude: ', result[1], '(85.3064456)')"
   ]
  },
  {
   "cell_type": "markdown",
   "metadata": {},
   "source": [
    "#### Add datas from summary sheet and create footing info"
   ]
  },
  {
   "cell_type": "code",
   "execution_count": 8,
   "metadata": {},
   "outputs": [
    {
     "data": {
      "text/html": [
       "<div>\n",
       "<style scoped>\n",
       "    .dataframe tbody tr th:only-of-type {\n",
       "        vertical-align: middle;\n",
       "    }\n",
       "\n",
       "    .dataframe tbody tr th {\n",
       "        vertical-align: top;\n",
       "    }\n",
       "\n",
       "    .dataframe thead th {\n",
       "        text-align: right;\n",
       "    }\n",
       "</style>\n",
       "<table border=\"1\" class=\"dataframe\">\n",
       "  <thead>\n",
       "    <tr style=\"text-align: right;\">\n",
       "      <th></th>\n",
       "      <th>SoilProperty.depth</th>\n",
       "      <th>SoilProperty.SPT_N</th>\n",
       "      <th>SoilProperty.GI</th>\n",
       "      <th>SoilProperty.gamma</th>\n",
       "      <th>SoilProperty.phi</th>\n",
       "      <th>SoilProperty.qu</th>\n",
       "      <th>SoilProperty.cu</th>\n",
       "      <th>SoilProperty.G</th>\n",
       "      <th>SoilProperty.FC</th>\n",
       "      <th>SoilProperty.water_per</th>\n",
       "    </tr>\n",
       "  </thead>\n",
       "  <tbody>\n",
       "    <tr>\n",
       "      <th>0</th>\n",
       "      <td>1.5</td>\n",
       "      <td>4.0</td>\n",
       "      <td>FM</td>\n",
       "      <td>1.824</td>\n",
       "      <td>32</td>\n",
       "      <td>95</td>\n",
       "      <td>4.5</td>\n",
       "      <td>2.511</td>\n",
       "      <td>53</td>\n",
       "      <td>0.1749</td>\n",
       "    </tr>\n",
       "    <tr>\n",
       "      <th>1</th>\n",
       "      <td>3.0</td>\n",
       "      <td>6.0</td>\n",
       "      <td>FM</td>\n",
       "      <td>1.824</td>\n",
       "      <td>32</td>\n",
       "      <td>95</td>\n",
       "      <td>4.5</td>\n",
       "      <td>2.511</td>\n",
       "      <td>53</td>\n",
       "      <td>0.1749</td>\n",
       "    </tr>\n",
       "    <tr>\n",
       "      <th>2</th>\n",
       "      <td>4.5</td>\n",
       "      <td>7.0</td>\n",
       "      <td>MI</td>\n",
       "      <td>1.824</td>\n",
       "      <td>32</td>\n",
       "      <td>95</td>\n",
       "      <td>4.5</td>\n",
       "      <td>2.511</td>\n",
       "      <td>95</td>\n",
       "      <td>0.3376</td>\n",
       "    </tr>\n",
       "    <tr>\n",
       "      <th>3</th>\n",
       "      <td>6.0</td>\n",
       "      <td>9.0</td>\n",
       "      <td>MI</td>\n",
       "      <td>1.824</td>\n",
       "      <td>32</td>\n",
       "      <td>95</td>\n",
       "      <td>4.5</td>\n",
       "      <td>2.511</td>\n",
       "      <td>95</td>\n",
       "      <td>0.3376</td>\n",
       "    </tr>\n",
       "    <tr>\n",
       "      <th>4</th>\n",
       "      <td>7.5</td>\n",
       "      <td>9.0</td>\n",
       "      <td>MI</td>\n",
       "      <td>1.824</td>\n",
       "      <td>32</td>\n",
       "      <td>95</td>\n",
       "      <td>4.5</td>\n",
       "      <td>2.511</td>\n",
       "      <td>95</td>\n",
       "      <td>0.3376</td>\n",
       "    </tr>\n",
       "    <tr>\n",
       "      <th>5</th>\n",
       "      <td>9.0</td>\n",
       "      <td>10.0</td>\n",
       "      <td>MI</td>\n",
       "      <td>1.824</td>\n",
       "      <td>32</td>\n",
       "      <td>95</td>\n",
       "      <td>4.5</td>\n",
       "      <td>2.511</td>\n",
       "      <td>95</td>\n",
       "      <td>0.3376</td>\n",
       "    </tr>\n",
       "    <tr>\n",
       "      <th>6</th>\n",
       "      <td>10.5</td>\n",
       "      <td>10.0</td>\n",
       "      <td>MI</td>\n",
       "      <td>1.824</td>\n",
       "      <td>32</td>\n",
       "      <td>95</td>\n",
       "      <td>4.5</td>\n",
       "      <td>2.511</td>\n",
       "      <td>95</td>\n",
       "      <td>0.3376</td>\n",
       "    </tr>\n",
       "    <tr>\n",
       "      <th>7</th>\n",
       "      <td>12.0</td>\n",
       "      <td>10.0</td>\n",
       "      <td>MI</td>\n",
       "      <td>1.824</td>\n",
       "      <td>32</td>\n",
       "      <td>95</td>\n",
       "      <td>4.5</td>\n",
       "      <td>2.511</td>\n",
       "      <td>95</td>\n",
       "      <td>0.3376</td>\n",
       "    </tr>\n",
       "    <tr>\n",
       "      <th>8</th>\n",
       "      <td>13.5</td>\n",
       "      <td>10.0</td>\n",
       "      <td>MI</td>\n",
       "      <td>1.824</td>\n",
       "      <td>32</td>\n",
       "      <td>95</td>\n",
       "      <td>4.5</td>\n",
       "      <td>2.511</td>\n",
       "      <td>95</td>\n",
       "      <td>0.3376</td>\n",
       "    </tr>\n",
       "    <tr>\n",
       "      <th>9</th>\n",
       "      <td>15.0</td>\n",
       "      <td>10.0</td>\n",
       "      <td>MI</td>\n",
       "      <td>1.824</td>\n",
       "      <td>32</td>\n",
       "      <td>95</td>\n",
       "      <td>4.5</td>\n",
       "      <td>2.511</td>\n",
       "      <td>95</td>\n",
       "      <td>0.3376</td>\n",
       "    </tr>\n",
       "    <tr>\n",
       "      <th>10</th>\n",
       "      <td>16.5</td>\n",
       "      <td>11.0</td>\n",
       "      <td>MI</td>\n",
       "      <td>1.824</td>\n",
       "      <td>32</td>\n",
       "      <td>95</td>\n",
       "      <td>4.5</td>\n",
       "      <td>2.511</td>\n",
       "      <td>95</td>\n",
       "      <td>0.3376</td>\n",
       "    </tr>\n",
       "    <tr>\n",
       "      <th>11</th>\n",
       "      <td>18.0</td>\n",
       "      <td>11.0</td>\n",
       "      <td>MI</td>\n",
       "      <td>1.824</td>\n",
       "      <td>32</td>\n",
       "      <td>95</td>\n",
       "      <td>4.5</td>\n",
       "      <td>2.511</td>\n",
       "      <td>95</td>\n",
       "      <td>0.3376</td>\n",
       "    </tr>\n",
       "    <tr>\n",
       "      <th>12</th>\n",
       "      <td>19.5</td>\n",
       "      <td>11.0</td>\n",
       "      <td>MI</td>\n",
       "      <td>1.824</td>\n",
       "      <td>32</td>\n",
       "      <td>95</td>\n",
       "      <td>4.5</td>\n",
       "      <td>2.511</td>\n",
       "      <td>95</td>\n",
       "      <td>0.3376</td>\n",
       "    </tr>\n",
       "  </tbody>\n",
       "</table>\n",
       "</div>"
      ],
      "text/plain": [
       "    SoilProperty.depth  SoilProperty.SPT_N SoilProperty.GI  \\\n",
       "0                  1.5                 4.0              FM   \n",
       "1                  3.0                 6.0              FM   \n",
       "2                  4.5                 7.0              MI   \n",
       "3                  6.0                 9.0              MI   \n",
       "4                  7.5                 9.0              MI   \n",
       "5                  9.0                10.0              MI   \n",
       "6                 10.5                10.0              MI   \n",
       "7                 12.0                10.0              MI   \n",
       "8                 13.5                10.0              MI   \n",
       "9                 15.0                10.0              MI   \n",
       "10                16.5                11.0              MI   \n",
       "11                18.0                11.0              MI   \n",
       "12                19.5                11.0              MI   \n",
       "\n",
       "    SoilProperty.gamma  SoilProperty.phi  SoilProperty.qu  SoilProperty.cu  \\\n",
       "0                1.824                32               95              4.5   \n",
       "1                1.824                32               95              4.5   \n",
       "2                1.824                32               95              4.5   \n",
       "3                1.824                32               95              4.5   \n",
       "4                1.824                32               95              4.5   \n",
       "5                1.824                32               95              4.5   \n",
       "6                1.824                32               95              4.5   \n",
       "7                1.824                32               95              4.5   \n",
       "8                1.824                32               95              4.5   \n",
       "9                1.824                32               95              4.5   \n",
       "10               1.824                32               95              4.5   \n",
       "11               1.824                32               95              4.5   \n",
       "12               1.824                32               95              4.5   \n",
       "\n",
       "    SoilProperty.G  SoilProperty.FC  SoilProperty.water_per  \n",
       "0            2.511               53                  0.1749  \n",
       "1            2.511               53                  0.1749  \n",
       "2            2.511               95                  0.3376  \n",
       "3            2.511               95                  0.3376  \n",
       "4            2.511               95                  0.3376  \n",
       "5            2.511               95                  0.3376  \n",
       "6            2.511               95                  0.3376  \n",
       "7            2.511               95                  0.3376  \n",
       "8            2.511               95                  0.3376  \n",
       "9            2.511               95                  0.3376  \n",
       "10           2.511               95                  0.3376  \n",
       "11           2.511               95                  0.3376  \n",
       "12           2.511               95                  0.3376  "
      ]
     },
     "execution_count": 8,
     "metadata": {},
     "output_type": "execute_result"
    }
   ],
   "source": [
    "#Create footing info based on depth\n",
    "def get_footing(depth=1.5):\n",
    "    footing = Footing()\n",
    "    footing[FootingData.Type] = FootingType.Square\n",
    "    footing[FootingData.Depth] = depth\n",
    "    footing[FootingData.Width] = 2\n",
    "    footing[FootingData.Length] = 2\n",
    "    return footing\n",
    "#In our case these values were loaded from excel directly\n",
    "water_depth = 1.5\n",
    "for i in layer:\n",
    "    i[SoilProperty.gamma] = 1.824\n",
    "    i[SoilProperty.phi] = 32\n",
    "    i[SoilProperty.qu] = 95\n",
    "    i[SoilProperty.cu] = 4.5\n",
    "    i[SoilProperty.G] = 2.511\n",
    "    if i[SoilProperty.depth]<=3:\n",
    "        i[SoilProperty.FC] = 53\n",
    "        i[SoilProperty.water_per] = 0.1749\n",
    "    else:\n",
    "        i[SoilProperty.FC] = 95\n",
    "        i[SoilProperty.water_per] = 0.3376\n",
    "pd.DataFrame.from_records(layer)"
   ]
  },
  {
   "cell_type": "markdown",
   "metadata": {},
   "source": [
    "#### Now compute values for each layer"
   ]
  },
  {
   "cell_type": "code",
   "execution_count": 9,
   "metadata": {},
   "outputs": [
    {
     "data": {
      "text/html": [
       "<div>\n",
       "<style scoped>\n",
       "    .dataframe tbody tr th:only-of-type {\n",
       "        vertical-align: middle;\n",
       "    }\n",
       "\n",
       "    .dataframe tbody tr th {\n",
       "        vertical-align: top;\n",
       "    }\n",
       "\n",
       "    .dataframe thead th {\n",
       "        text-align: right;\n",
       "    }\n",
       "</style>\n",
       "<table border=\"1\" class=\"dataframe\">\n",
       "  <thead>\n",
       "    <tr style=\"text-align: right;\">\n",
       "      <th></th>\n",
       "      <th>SoilProperty.depth</th>\n",
       "      <th>SoilProperty.SPT_N</th>\n",
       "      <th>SoilProperty.GI</th>\n",
       "      <th>SoilProperty.gamma</th>\n",
       "      <th>SoilProperty.phi</th>\n",
       "      <th>SoilProperty.qu</th>\n",
       "      <th>SoilProperty.cu</th>\n",
       "      <th>SoilProperty.G</th>\n",
       "      <th>SoilProperty.FC</th>\n",
       "      <th>SoilProperty.water_per</th>\n",
       "      <th>SoilProperty.sat_unit_weight</th>\n",
       "      <th>SoilProperty.vertical_effective_stress</th>\n",
       "      <th>SoilProperty.total_effective_stress</th>\n",
       "      <th>SoilProperty.water_depth</th>\n",
       "      <th>SoilProperty.thickness</th>\n",
       "      <th>SoilProperty.N60</th>\n",
       "      <th>SoilProperty.packing_case</th>\n",
       "      <th>SoilProperty.elasticity</th>\n",
       "      <th>SoilProperty.nu</th>\n",
       "    </tr>\n",
       "  </thead>\n",
       "  <tbody>\n",
       "    <tr>\n",
       "      <th>0</th>\n",
       "      <td>1.5</td>\n",
       "      <td>4.0</td>\n",
       "      <td>MF</td>\n",
       "      <td>1.824</td>\n",
       "      <td>32</td>\n",
       "      <td>95</td>\n",
       "      <td>4.5</td>\n",
       "      <td>2.511</td>\n",
       "      <td>53</td>\n",
       "      <td>0.1749</td>\n",
       "      <td>20.109596</td>\n",
       "      <td>26.840160</td>\n",
       "      <td>26.840160</td>\n",
       "      <td>1.5</td>\n",
       "      <td>1.5</td>\n",
       "      <td>4.363333</td>\n",
       "      <td>1</td>\n",
       "      <td>4363.333333</td>\n",
       "      <td>0.3</td>\n",
       "    </tr>\n",
       "    <tr>\n",
       "      <th>1</th>\n",
       "      <td>3.0</td>\n",
       "      <td>6.0</td>\n",
       "      <td>MF</td>\n",
       "      <td>1.824</td>\n",
       "      <td>32</td>\n",
       "      <td>95</td>\n",
       "      <td>4.5</td>\n",
       "      <td>2.511</td>\n",
       "      <td>53</td>\n",
       "      <td>0.1749</td>\n",
       "      <td>20.109596</td>\n",
       "      <td>42.289554</td>\n",
       "      <td>57.004554</td>\n",
       "      <td>1.5</td>\n",
       "      <td>1.5</td>\n",
       "      <td>6.203635</td>\n",
       "      <td>1</td>\n",
       "      <td>6203.635233</td>\n",
       "      <td>0.3</td>\n",
       "    </tr>\n",
       "    <tr>\n",
       "      <th>2</th>\n",
       "      <td>4.5</td>\n",
       "      <td>7.0</td>\n",
       "      <td>MI</td>\n",
       "      <td>1.824</td>\n",
       "      <td>32</td>\n",
       "      <td>95</td>\n",
       "      <td>4.5</td>\n",
       "      <td>2.511</td>\n",
       "      <td>95</td>\n",
       "      <td>0.3376</td>\n",
       "      <td>17.832298</td>\n",
       "      <td>54.323002</td>\n",
       "      <td>83.753002</td>\n",
       "      <td>1.5</td>\n",
       "      <td>1.5</td>\n",
       "      <td>7.237280</td>\n",
       "      <td>1</td>\n",
       "      <td>7237.280059</td>\n",
       "      <td>0.3</td>\n",
       "    </tr>\n",
       "    <tr>\n",
       "      <th>3</th>\n",
       "      <td>6.0</td>\n",
       "      <td>9.0</td>\n",
       "      <td>MI</td>\n",
       "      <td>1.824</td>\n",
       "      <td>32</td>\n",
       "      <td>95</td>\n",
       "      <td>4.5</td>\n",
       "      <td>2.511</td>\n",
       "      <td>95</td>\n",
       "      <td>0.3376</td>\n",
       "      <td>17.832298</td>\n",
       "      <td>66.356450</td>\n",
       "      <td>110.501450</td>\n",
       "      <td>1.5</td>\n",
       "      <td>1.5</td>\n",
       "      <td>9.409680</td>\n",
       "      <td>1</td>\n",
       "      <td>9409.679640</td>\n",
       "      <td>0.3</td>\n",
       "    </tr>\n",
       "    <tr>\n",
       "      <th>4</th>\n",
       "      <td>7.5</td>\n",
       "      <td>9.0</td>\n",
       "      <td>MI</td>\n",
       "      <td>1.824</td>\n",
       "      <td>32</td>\n",
       "      <td>95</td>\n",
       "      <td>4.5</td>\n",
       "      <td>2.511</td>\n",
       "      <td>95</td>\n",
       "      <td>0.3376</td>\n",
       "      <td>17.832298</td>\n",
       "      <td>78.389897</td>\n",
       "      <td>137.249897</td>\n",
       "      <td>1.5</td>\n",
       "      <td>1.5</td>\n",
       "      <td>8.657378</td>\n",
       "      <td>1</td>\n",
       "      <td>8657.377609</td>\n",
       "      <td>0.3</td>\n",
       "    </tr>\n",
       "    <tr>\n",
       "      <th>5</th>\n",
       "      <td>9.0</td>\n",
       "      <td>10.0</td>\n",
       "      <td>MI</td>\n",
       "      <td>1.824</td>\n",
       "      <td>32</td>\n",
       "      <td>95</td>\n",
       "      <td>4.5</td>\n",
       "      <td>2.511</td>\n",
       "      <td>95</td>\n",
       "      <td>0.3376</td>\n",
       "      <td>17.832298</td>\n",
       "      <td>90.423345</td>\n",
       "      <td>163.998345</td>\n",
       "      <td>1.5</td>\n",
       "      <td>1.5</td>\n",
       "      <td>8.956403</td>\n",
       "      <td>1</td>\n",
       "      <td>8956.402748</td>\n",
       "      <td>0.3</td>\n",
       "    </tr>\n",
       "    <tr>\n",
       "      <th>6</th>\n",
       "      <td>10.5</td>\n",
       "      <td>10.0</td>\n",
       "      <td>MI</td>\n",
       "      <td>1.824</td>\n",
       "      <td>32</td>\n",
       "      <td>95</td>\n",
       "      <td>4.5</td>\n",
       "      <td>2.511</td>\n",
       "      <td>95</td>\n",
       "      <td>0.3376</td>\n",
       "      <td>17.832298</td>\n",
       "      <td>102.456793</td>\n",
       "      <td>190.746793</td>\n",
       "      <td>1.5</td>\n",
       "      <td>1.5</td>\n",
       "      <td>8.856863</td>\n",
       "      <td>1</td>\n",
       "      <td>8856.862762</td>\n",
       "      <td>0.3</td>\n",
       "    </tr>\n",
       "    <tr>\n",
       "      <th>7</th>\n",
       "      <td>12.0</td>\n",
       "      <td>10.0</td>\n",
       "      <td>MI</td>\n",
       "      <td>1.824</td>\n",
       "      <td>32</td>\n",
       "      <td>95</td>\n",
       "      <td>4.5</td>\n",
       "      <td>2.511</td>\n",
       "      <td>95</td>\n",
       "      <td>0.3376</td>\n",
       "      <td>17.832298</td>\n",
       "      <td>114.490241</td>\n",
       "      <td>217.495241</td>\n",
       "      <td>1.5</td>\n",
       "      <td>1.5</td>\n",
       "      <td>8.378496</td>\n",
       "      <td>1</td>\n",
       "      <td>8378.495871</td>\n",
       "      <td>0.3</td>\n",
       "    </tr>\n",
       "    <tr>\n",
       "      <th>8</th>\n",
       "      <td>13.5</td>\n",
       "      <td>10.0</td>\n",
       "      <td>MI</td>\n",
       "      <td>1.824</td>\n",
       "      <td>32</td>\n",
       "      <td>95</td>\n",
       "      <td>4.5</td>\n",
       "      <td>2.511</td>\n",
       "      <td>95</td>\n",
       "      <td>0.3376</td>\n",
       "      <td>17.832298</td>\n",
       "      <td>126.523688</td>\n",
       "      <td>244.243688</td>\n",
       "      <td>1.5</td>\n",
       "      <td>1.5</td>\n",
       "      <td>7.970111</td>\n",
       "      <td>1</td>\n",
       "      <td>7970.111042</td>\n",
       "      <td>0.3</td>\n",
       "    </tr>\n",
       "    <tr>\n",
       "      <th>9</th>\n",
       "      <td>15.0</td>\n",
       "      <td>10.0</td>\n",
       "      <td>MI</td>\n",
       "      <td>1.824</td>\n",
       "      <td>32</td>\n",
       "      <td>95</td>\n",
       "      <td>4.5</td>\n",
       "      <td>2.511</td>\n",
       "      <td>95</td>\n",
       "      <td>0.3376</td>\n",
       "      <td>17.832298</td>\n",
       "      <td>138.557136</td>\n",
       "      <td>270.992136</td>\n",
       "      <td>1.5</td>\n",
       "      <td>1.5</td>\n",
       "      <td>7.616156</td>\n",
       "      <td>1</td>\n",
       "      <td>7616.156245</td>\n",
       "      <td>0.3</td>\n",
       "    </tr>\n",
       "    <tr>\n",
       "      <th>10</th>\n",
       "      <td>16.5</td>\n",
       "      <td>11.0</td>\n",
       "      <td>MI</td>\n",
       "      <td>1.824</td>\n",
       "      <td>32</td>\n",
       "      <td>95</td>\n",
       "      <td>4.5</td>\n",
       "      <td>2.511</td>\n",
       "      <td>95</td>\n",
       "      <td>0.3376</td>\n",
       "      <td>17.832298</td>\n",
       "      <td>150.590584</td>\n",
       "      <td>297.740584</td>\n",
       "      <td>1.5</td>\n",
       "      <td>1.5</td>\n",
       "      <td>8.036077</td>\n",
       "      <td>1</td>\n",
       "      <td>8036.076654</td>\n",
       "      <td>0.3</td>\n",
       "    </tr>\n",
       "    <tr>\n",
       "      <th>11</th>\n",
       "      <td>18.0</td>\n",
       "      <td>11.0</td>\n",
       "      <td>MI</td>\n",
       "      <td>1.824</td>\n",
       "      <td>32</td>\n",
       "      <td>95</td>\n",
       "      <td>4.5</td>\n",
       "      <td>2.511</td>\n",
       "      <td>95</td>\n",
       "      <td>0.3376</td>\n",
       "      <td>17.832298</td>\n",
       "      <td>162.624031</td>\n",
       "      <td>324.489031</td>\n",
       "      <td>1.5</td>\n",
       "      <td>1.5</td>\n",
       "      <td>7.733046</td>\n",
       "      <td>1</td>\n",
       "      <td>7733.046427</td>\n",
       "      <td>0.3</td>\n",
       "    </tr>\n",
       "    <tr>\n",
       "      <th>12</th>\n",
       "      <td>19.5</td>\n",
       "      <td>11.0</td>\n",
       "      <td>MI</td>\n",
       "      <td>1.824</td>\n",
       "      <td>32</td>\n",
       "      <td>95</td>\n",
       "      <td>4.5</td>\n",
       "      <td>2.511</td>\n",
       "      <td>95</td>\n",
       "      <td>0.3376</td>\n",
       "      <td>17.832298</td>\n",
       "      <td>174.657479</td>\n",
       "      <td>351.237479</td>\n",
       "      <td>1.5</td>\n",
       "      <td>1.5</td>\n",
       "      <td>7.461899</td>\n",
       "      <td>1</td>\n",
       "      <td>7461.899324</td>\n",
       "      <td>0.3</td>\n",
       "    </tr>\n",
       "  </tbody>\n",
       "</table>\n",
       "</div>"
      ],
      "text/plain": [
       "    SoilProperty.depth  SoilProperty.SPT_N SoilProperty.GI  \\\n",
       "0                  1.5                 4.0              MF   \n",
       "1                  3.0                 6.0              MF   \n",
       "2                  4.5                 7.0              MI   \n",
       "3                  6.0                 9.0              MI   \n",
       "4                  7.5                 9.0              MI   \n",
       "5                  9.0                10.0              MI   \n",
       "6                 10.5                10.0              MI   \n",
       "7                 12.0                10.0              MI   \n",
       "8                 13.5                10.0              MI   \n",
       "9                 15.0                10.0              MI   \n",
       "10                16.5                11.0              MI   \n",
       "11                18.0                11.0              MI   \n",
       "12                19.5                11.0              MI   \n",
       "\n",
       "    SoilProperty.gamma  SoilProperty.phi  SoilProperty.qu  SoilProperty.cu  \\\n",
       "0                1.824                32               95              4.5   \n",
       "1                1.824                32               95              4.5   \n",
       "2                1.824                32               95              4.5   \n",
       "3                1.824                32               95              4.5   \n",
       "4                1.824                32               95              4.5   \n",
       "5                1.824                32               95              4.5   \n",
       "6                1.824                32               95              4.5   \n",
       "7                1.824                32               95              4.5   \n",
       "8                1.824                32               95              4.5   \n",
       "9                1.824                32               95              4.5   \n",
       "10               1.824                32               95              4.5   \n",
       "11               1.824                32               95              4.5   \n",
       "12               1.824                32               95              4.5   \n",
       "\n",
       "    SoilProperty.G  SoilProperty.FC  SoilProperty.water_per  \\\n",
       "0            2.511               53                  0.1749   \n",
       "1            2.511               53                  0.1749   \n",
       "2            2.511               95                  0.3376   \n",
       "3            2.511               95                  0.3376   \n",
       "4            2.511               95                  0.3376   \n",
       "5            2.511               95                  0.3376   \n",
       "6            2.511               95                  0.3376   \n",
       "7            2.511               95                  0.3376   \n",
       "8            2.511               95                  0.3376   \n",
       "9            2.511               95                  0.3376   \n",
       "10           2.511               95                  0.3376   \n",
       "11           2.511               95                  0.3376   \n",
       "12           2.511               95                  0.3376   \n",
       "\n",
       "    SoilProperty.sat_unit_weight  SoilProperty.vertical_effective_stress  \\\n",
       "0                      20.109596                               26.840160   \n",
       "1                      20.109596                               42.289554   \n",
       "2                      17.832298                               54.323002   \n",
       "3                      17.832298                               66.356450   \n",
       "4                      17.832298                               78.389897   \n",
       "5                      17.832298                               90.423345   \n",
       "6                      17.832298                              102.456793   \n",
       "7                      17.832298                              114.490241   \n",
       "8                      17.832298                              126.523688   \n",
       "9                      17.832298                              138.557136   \n",
       "10                     17.832298                              150.590584   \n",
       "11                     17.832298                              162.624031   \n",
       "12                     17.832298                              174.657479   \n",
       "\n",
       "    SoilProperty.total_effective_stress  SoilProperty.water_depth  \\\n",
       "0                             26.840160                       1.5   \n",
       "1                             57.004554                       1.5   \n",
       "2                             83.753002                       1.5   \n",
       "3                            110.501450                       1.5   \n",
       "4                            137.249897                       1.5   \n",
       "5                            163.998345                       1.5   \n",
       "6                            190.746793                       1.5   \n",
       "7                            217.495241                       1.5   \n",
       "8                            244.243688                       1.5   \n",
       "9                            270.992136                       1.5   \n",
       "10                           297.740584                       1.5   \n",
       "11                           324.489031                       1.5   \n",
       "12                           351.237479                       1.5   \n",
       "\n",
       "    SoilProperty.thickness  SoilProperty.N60  SoilProperty.packing_case  \\\n",
       "0                      1.5          4.363333                          1   \n",
       "1                      1.5          6.203635                          1   \n",
       "2                      1.5          7.237280                          1   \n",
       "3                      1.5          9.409680                          1   \n",
       "4                      1.5          8.657378                          1   \n",
       "5                      1.5          8.956403                          1   \n",
       "6                      1.5          8.856863                          1   \n",
       "7                      1.5          8.378496                          1   \n",
       "8                      1.5          7.970111                          1   \n",
       "9                      1.5          7.616156                          1   \n",
       "10                     1.5          8.036077                          1   \n",
       "11                     1.5          7.733046                          1   \n",
       "12                     1.5          7.461899                          1   \n",
       "\n",
       "    SoilProperty.elasticity  SoilProperty.nu  \n",
       "0               4363.333333              0.3  \n",
       "1               6203.635233              0.3  \n",
       "2               7237.280059              0.3  \n",
       "3               9409.679640              0.3  \n",
       "4               8657.377609              0.3  \n",
       "5               8956.402748              0.3  \n",
       "6               8856.862762              0.3  \n",
       "7               8378.495871              0.3  \n",
       "8               7970.111042              0.3  \n",
       "9               7616.156245              0.3  \n",
       "10              8036.076654              0.3  \n",
       "11              7733.046427              0.3  \n",
       "12              7461.899324              0.3  "
      ]
     },
     "execution_count": 9,
     "metadata": {},
     "output_type": "execute_result"
    }
   ],
   "source": [
    "soil_material = LayerSoil(layer, water_depth, 0)\n",
    "#Here 0 is for internal purpose (PLAXIS result caching)\n",
    "pd.DataFrame.from_records(soil_material.get())"
   ]
  },
  {
   "cell_type": "markdown",
   "metadata": {},
   "source": [
    "#### Sample calculation for 1.5m depth\n",
    "Saturated Unit Weight ($\\gamma_{sat}$)\n",
    "= $9.81*\\frac{(1+w\\%)* G }{ 1+ w\\% * G}$\n",
    "= $9.81*\\frac{(1+0.1749)*2.511}{1+0.1749*2.511}$\n",
    "= 20.10959618\n",
    "<br/>\n",
    "Vertical Effective Stress=$\n",
    "\\begin{cases}\n",
    "q + (\\gamma_{sat} - 9.81)*depth & ,for below WL \\\\\n",
    "q + \\gamma * 9.81 * depth & ,for above WL\n",
    "\\end{cases}\n",
    "$<br/>\n",
    "So, Vertical Effective Stress = 0 + 1.824 * 9.81 * 1.5 = 26.84016\n",
    "\n",
    "Total Effective Stress=$\n",
    "\\begin{cases}\n",
    "q + \\gamma_{sat} *depth & ,for below WL \\\\\n",
    "q + \\gamma * 9.81 * depth & ,for above WL\n",
    "\\end{cases}\n",
    "$<br/>\n",
    "So, Total Effective Stress = 0 + 1.824 * 9.81 * 1.5 = 26.84016"
   ]
  },
  {
   "cell_type": "markdown",
   "metadata": {},
   "source": [
    "##### Determining N60\n",
    "SPT_N = 4.0\n",
    "\n",
    "Apply dilatracy correction,<br/>\n",
    "Since SPT_N < 15 and above GWT no correction is needed,<br/>\n",
    "else, $N = 15 + 0.5 * (SPT\\_N - 15)$<br/>\n",
    "So, N = 4.0\n",
    "\n",
    "And,\n",
    "Cb = 1<br/>\n",
    "Cs = 1<br/>\n",
    "Eh = 0.55<br/>\n",
    "Cr = 0.7 for depth < 3 <br/>\n",
    "And, CN = $9.78*\\sqrt{\\frac{1}{Vertical Effective Stress}} \\le 1.7 $<br/> = $9.78 * \\sqrt{\\frac{1}{26.084016}}$ = 1.91492 > 1.7 = 1.7<br/>\n",
    "So, $N_{60} = Cb*Cs*Eh*Cr*CN*N/0.6 = 1*1*0.55*0.7*1.7*4.0/0.6 = 4.3633333$"
   ]
  },
  {
   "cell_type": "markdown",
   "metadata": {},
   "source": [
    "##### Packing Case\n",
    "For sand N60, 4-10, packing case = 2<br/>\n",
    "Starting count from 0(computer) = 2-1=1"
   ]
  },
  {
   "cell_type": "markdown",
   "metadata": {},
   "source": [
    "##### Nu\n",
    "$\\nu$ = 0.3, for cohesionless soil(assumed)\n",
    "##### Elasticity\n",
    "$E = 10*N_{60}*100$ = 10 * 4.3633333*100 = 4363.3333"
   ]
  },
  {
   "cell_type": "markdown",
   "metadata": {},
   "source": [
    "### Now calculate BC and LPI using diffrent methods\n",
    "For 1.5m, avg_N60 = weighted average N60 from d/2 to 2d"
   ]
  },
  {
   "cell_type": "code",
   "execution_count": 10,
   "metadata": {},
   "outputs": [
    {
     "data": {
      "text/plain": [
       "4.363333333333333"
      ]
     },
     "execution_count": 10,
     "metadata": {},
     "output_type": "execute_result"
    }
   ],
   "source": [
    "soil_material.get_avg_N(1.5)"
   ]
  },
  {
   "cell_type": "code",
   "execution_count": 11,
   "metadata": {},
   "outputs": [],
   "source": [
    "footing = get_footing()\n",
    "assembly = Assembly(footing, soil_material)\n",
    "solver = Solver(assembly)\n",
    "results = solver.run()\n",
    "#print(results)"
   ]
  },
  {
   "cell_type": "markdown",
   "metadata": {},
   "source": [
    "## Shear Methods\n",
    "### Terzaghi\n",
    "$Rw1 = 0.5* (1+water\\_depth/depth\\_footing) = 1$<br/>\n",
    "$Rw2 = 0.5* (1+(water\\_depth-depth\\_footing)/width\\_footing) = 0.5$<br/>\n",
    "$q_s = 1.2*c*N_c + surchage*N_q*Rw1 + 0.4*\\gamma*9.81*width\\_footing*N_\\gamma*Rw2$<br/>\n",
    "$=1.3*4.5*44.0357+26.840160*28.51657*1+0.4*1.824*9.81*2*28.78*0.5$<br/>\n",
    "$=1228.987$<br/>\n",
    "$q_{ns} = (q_s - q)/3 = (1228.987-26.84016)/3=400.7157$<br>"
   ]
  },
  {
   "cell_type": "code",
   "execution_count": 12,
   "metadata": {},
   "outputs": [
    {
     "data": {
      "text/plain": [
       "400.71581138243215"
      ]
     },
     "execution_count": 12,
     "metadata": {},
     "output_type": "execute_result"
    }
   ],
   "source": [
    "results[Methods.Terzaghi]"
   ]
  },
  {
   "cell_type": "markdown",
   "metadata": {},
   "source": [
    "### Meyerhof\n",
    "$K_p = tan^2(45+ \\phi/2)$ = $tan^2(45+32/2)$ = 3.2546<br/>\n",
    "sc = $1 + 0.2*K_p*width\\_footing/length\\_footing$ = $1+0.2*3.2546*2/2$ = 1.65092<br/>\n",
    "$sq=1+0.1*K_p*width\\_footing/length\\_footing = 1+0.1*3.2546*2/2 = 1.32546$<br/>\n",
    "$sy = sq = 1.32546$<br/>\n",
    "$dc = 1 +0.2*\\sqrt{K_p}*depth\\_footing/width\\_footing = 1+0.2*\\sqrt{3.2546}*1.5/2 = 1.2706$<br/>\n",
    "$dq =1 +0.1*\\sqrt{K_p}*depth\\_footing/width\\_footing = 1+0.1*\\sqrt{3.2546}*1.5/2 = 1.1353$<br/>\n",
    "$dy = dq = 1.1353$<br/>\n",
    "$c\\_term = cohesion*Nc(phi)*sc*dc = 4.5*35.49026*1.65092*1.2706 = 335.009$<br/>\n",
    "$q\\_term = surchage*Nq(phi)*sq*dq*Rw1 = 26.84016*23.176776*1.32546*1.1353*1 = 936.0852$<br/>\n",
    "$y\\_term = 0.5*gamma*9.81*self.width\\_footing*Ny(phi)*sy*dy*Rw2 = 0.5*1.824*9.81*2*22.02249*1.32546*1.1353*0.5 = 296.488$<br/>\n",
    "$q_s=1567.58248$<br/>\n",
    "$q_{ns}=(1567.58248-26.84016)/3=513.58$"
   ]
  },
  {
   "cell_type": "code",
   "execution_count": 13,
   "metadata": {},
   "outputs": [
    {
     "data": {
      "text/plain": [
       "513.5822200901385"
      ]
     },
     "execution_count": 13,
     "metadata": {},
     "output_type": "execute_result"
    }
   ],
   "source": [
    "results[Methods.Meyerhof]"
   ]
  },
  {
   "cell_type": "markdown",
   "metadata": {},
   "source": [
    "### Hansen\n",
    "$N_c=35.490260$<br/>\n",
    "$N_q=23.1767762$<br/>\n",
    "$N_y=20.78638$<br/>\n",
    "$sc=1+N_q/N_c*width\\_footing/length\\_footing= 1+23.1767762/35.49026*2/2=1.653046$<br/>\n",
    "$sq=1+width\\_footing/length\\_footing*tan(\\phi)=1+2/2*tan(32)=1.624869$<br/>\n",
    "$sy=1-0.4*width\\_footing/length\\_footing=1-0.4*2/2=0.6$<br/>\n",
    "$dc = 1 +0.4*width\\_footing/length\\_footing=1+0.4*2/2=1.4$<br/>\n",
    "$dq = 1 +2*tan(\\phi)*(1-sin(\\phi))^2 * depth\\_footing/width\\_footing=1+2*tan(32)*(1-sin(32))^2*1.5/2=1.20712$<br/>\n",
    "$dy=1$<br/>\n",
    "$c\\_term = cohesion*N_c*sc*dc=4.5*35.49026*1.653046*1.4=369.6023$<br/>\n",
    "$q\\_term = surchage*N_q*sq*dq*Rw1=26.84016*23.1767762*1.624869*1.20712*1=1220.1323$<br/>\n",
    "$y\\_term = 0.5*gamma*9.81*width\\_footing*N_y*sy*dy*Rw2=0.5*1.824*9.81*2*20.78638*0.6*1*0.5=111.581953$<br/>\n",
    "$q_s = c\\_term+q\\_term+y\\_term=1701.31656$<br/>\n",
    "$q_{ns} = (1701.31656 - 26.84016)/3 = 558.158$"
   ]
  },
  {
   "cell_type": "code",
   "execution_count": 14,
   "metadata": {},
   "outputs": [
    {
     "data": {
      "text/plain": [
       "558.1594404871763"
      ]
     },
     "execution_count": 14,
     "metadata": {},
     "output_type": "execute_result"
    }
   ],
   "source": [
    "results[Methods.Hansen]"
   ]
  },
  {
   "cell_type": "markdown",
   "metadata": {},
   "source": [
    "### Vesic\n",
    "$N_c=35.4902607$<br/>\n",
    "$N_q=23.176776$<br/>\n",
    "$N_y=30.2146529$<br/>\n",
    "$sc=1+N_q/N_c*width\\_footing/length\\_footing= 1+23.176776/35.4902607*2/2=1.653046$<br/>\n",
    "$sq=1+width\\_footing/length\\_footing*tan(\\phi)=1+2/2*tan(32)=1.624869$<br/>\n",
    "$sy=1-0.4*width\\_footing/length\\_footing=1-0.4*2/2=0.6$<br/>\n",
    "$dc = 1 +0.4*width\\_footing/length\\_footing=1+0.4*2/2=1.4$<br/>\n",
    "$dq = 1 +2*tan(\\phi)*(1-sin(\\phi))^2 * depth\\_footing/width\\_footing=1+2*tan(32)*(1-sin(32))^2*1.5/2=1.20712$<br/>\n",
    "$dy=1$<br/>\n",
    "$c\\_term = cohesion*N_c*sc*dc=4.5*35.49026*1.653046*1.4=369.6023$<br/>\n",
    "$q\\_term = surchage*N_q*sq*dq*Rw1=26.84016*23.1767762*1.624869*1.20712*1=1220.1323$<br/>\n",
    "$y\\_term = 0.5*gamma*9.81*width\\_footing*N_y*sy*dy*Rw2=0.5*1.824*9.81*2*30.2146529*0.6*1*0.5=162.19322$<br/>\n",
    "$q_s = c\\_term+q\\_term+y\\_term=1751.93$<br/>\n",
    "$q_{ns} = (1701.31656 - 26.84016)/3 = 575.03$"
   ]
  },
  {
   "cell_type": "code",
   "execution_count": 15,
   "metadata": {},
   "outputs": [
    {
     "data": {
      "text/plain": [
       "575.0298611603204"
      ]
     },
     "execution_count": 15,
     "metadata": {},
     "output_type": "execute_result"
    }
   ],
   "source": [
    "results[Methods.Vesic]"
   ]
  },
  {
   "cell_type": "markdown",
   "metadata": {},
   "source": [
    "### Plaxis\n",
    "For shear failure in PLAXIS, a large deformation is applied (same result can be obtained by applying large load), so that soil fails by shear. In both cases the soil fails during stagged loading. So we obtain result in plaxis which shows that step failed, but we get result."
   ]
  },
  {
   "cell_type": "code",
   "execution_count": 16,
   "metadata": {},
   "outputs": [
    {
     "data": {
      "text/plain": [
       "797.05"
      ]
     },
     "execution_count": 16,
     "metadata": {},
     "output_type": "execute_result"
    }
   ],
   "source": [
    "results[Methods.PlaxisShear]"
   ]
  },
  {
   "cell_type": "markdown",
   "metadata": {},
   "source": [
    "### Teng\n",
    "$q_{ns} = 0.11*N60*N60*width\\_footing*Rw2+0.33*(100+N60*N60)*depth\\_footing*Rw1$<br/>\n",
    "$= 0.11*4.36333^2*2*0.5+0.33*(100+4.36333^2)*1.5*1 = 61.018$"
   ]
  },
  {
   "cell_type": "code",
   "execution_count": 17,
   "metadata": {},
   "outputs": [
    {
     "data": {
      "text/plain": [
       "61.01840005555556"
      ]
     },
     "execution_count": 17,
     "metadata": {},
     "output_type": "execute_result"
    }
   ],
   "source": [
    "results[Methods.Teng]"
   ]
  },
  {
   "cell_type": "markdown",
   "metadata": {},
   "source": [
    "## Settlement Methods\n",
    "Take 25mm deflection,\n",
    "\n",
    "### Meyerhof\n",
    "$Rd = 1 + 0.33*depth\\_footing/width\\_footing = 1+0.33*1.5/2= 1.2475$<br/>\n",
    "$b = water\\_depth-depth\\_footing = 1.5-1.5=0$<br/>\n",
    "$Wy = 0.5+0.5*b / width\\_footing=0.5$<br/>\n",
    "$q_s = 8.1*n60*((width\\_footing+0.3)/width\\_footing)^2*Wy*Rd$<br/>\n",
    "$=8.1*4.3633*((2+0.3)/2)^2*0.5*1.2475=29.154772$"
   ]
  },
  {
   "cell_type": "code",
   "execution_count": 18,
   "metadata": {},
   "outputs": [
    {
     "data": {
      "text/plain": [
       "29.154772040624994"
      ]
     },
     "execution_count": 18,
     "metadata": {},
     "output_type": "execute_result"
    }
   ],
   "source": [
    "results[Methods.MeyerhofDeflection]"
   ]
  },
  {
   "cell_type": "markdown",
   "metadata": {},
   "source": [
    "### Bowels\n",
    "$q_s = 1.5*Meyerhoff = 1.5*29.154772= 43.732158$"
   ]
  },
  {
   "cell_type": "code",
   "execution_count": 19,
   "metadata": {},
   "outputs": [
    {
     "data": {
      "text/plain": [
       "43.73215806093749"
      ]
     },
     "execution_count": 19,
     "metadata": {},
     "output_type": "execute_result"
    }
   ],
   "source": [
    "results[Methods.Bowels]"
   ]
  },
  {
   "cell_type": "markdown",
   "metadata": {},
   "source": [
    "### Peck\n",
    "$Cw = 0.5 + 0.5*water\\_depth/(depth\\_footing+width\\_footing) = 0.5+0.5*1.5/(1.5+2) = 0.71429$<br/>\n",
    "$q_s =  10.25*Cw*n60 = 10.25*0.71429*4.3633 = 31.94578$"
   ]
  },
  {
   "cell_type": "code",
   "execution_count": 20,
   "metadata": {},
   "outputs": [
    {
     "data": {
      "text/plain": [
       "31.945833333333333"
      ]
     },
     "execution_count": 20,
     "metadata": {},
     "output_type": "execute_result"
    }
   ],
   "source": [
    "results[Methods.Peck]"
   ]
  },
  {
   "cell_type": "markdown",
   "metadata": {},
   "source": [
    "### Teng\n",
    "$Rd = 1 + depth\\_footing/width\\_footing = 1 + 1.5/2 = 1.75$<br/>\n",
    "$q_s =  35*(n60-3)*((width\\_footing+0.3)/(2*width\\_footing))^2*Wy*Rd$<br/>\n",
    "$ = 35*(4.3633-3)*((2+0.3)/(2*2))^2*0.5*1.75= 13.803945$"
   ]
  },
  {
   "cell_type": "code",
   "execution_count": 21,
   "metadata": {},
   "outputs": [
    {
     "data": {
      "text/plain": [
       "13.804282552083333"
      ]
     },
     "execution_count": 21,
     "metadata": {},
     "output_type": "execute_result"
    }
   ],
   "source": [
    "results[Methods.TengDeflection]"
   ]
  },
  {
   "cell_type": "markdown",
   "metadata": {},
   "source": [
    "### Plaxis\n",
    "25mm deflection was applied at the footing depth and the corresponding force was taken as bearing capacity."
   ]
  },
  {
   "cell_type": "code",
   "execution_count": 22,
   "metadata": {},
   "outputs": [
    {
     "data": {
      "text/plain": [
       "40.06205"
      ]
     },
     "execution_count": 22,
     "metadata": {},
     "output_type": "execute_result"
    }
   ],
   "source": [
    "results[Methods.Plaxis]"
   ]
  },
  {
   "cell_type": "markdown",
   "metadata": {},
   "source": [
    "### LPI\n",
    "Excel sheet: [https://github.com/rdmorgnzation/soilbearing/blob/main/media/media/testdata/lqi.xlsx](https://github.com/rdmorgnzation/soilbearing/blob/main/media/media/testdata/lqi.xlsx)\n",
    "<br/>\n",
    "For 1.5m depth,\n",
    "$FC=94.36$<br/>\n",
    "$delN1 = e^(1.63+(9.7/(FC+0.01))-(15.7/(FC+0.01))*(15.7/(FC+0.01)))=5.501985976$<br/>\n",
    "$N1cs = N60+delN1 = 20.23473097$<br/>\n",
    "$MSF = 0.8758$<br/>\n",
    "$Csigma = 1/(18.9-2.55*\\sqrt{N1cs}) = 0.134601693$<br/>\n",
    "$Ksigma = 1-Csigma*log(vertical\\_effective\\_stress/100)= 0.921469899$<br/>\n",
    "$CRR = exp((N1cs/14.1)+(N1cs/126)^2-(N1cs/23.6)^3+(N1cs/25.4)^3-2.8/1)*(MSF*Ksigma)=0.186699144$<br/>\n",
    "$a_g = 0.183$<br/>\n",
    "$SRF = exp(-1.012-1.126*sin(depth/11.73+5.133)+8*(0.106+0.118*sin(depth/11.28+5.142)))=0.998325105$<br/>\n",
    "$CSR = 0.65*(total\\_effective\\_stress/vertical\\_effective\\_stress)*a_g*SRF = 0.118750771$<br/>\n",
    "$FS = CRR / CSR = 0.992381257$<br/>\n",
    "Since, 0.95<FS<1.2:<br/>\n",
    "$Fz = 2e6*exp(-18.427*FS) = 0.022869488$<br/>\n",
    "$Wz = 10 - data[SoilProperty.depth]/2 = 9.25$<br/>\n",
    "$del\\_lpi = Fz * Wz * thickness = 0.317314139$<br/>\n",
    "Adding upto depth of 20 we get, LPI = 21.17671875"
   ]
  },
  {
   "cell_type": "code",
   "execution_count": 23,
   "metadata": {},
   "outputs": [
    {
     "data": {
      "text/plain": [
       "21.17671874695882"
      ]
     },
     "execution_count": 23,
     "metadata": {},
     "output_type": "execute_result"
    }
   ],
   "source": [
    "results[Methods.Liquifaction]"
   ]
  }
 ],
 "metadata": {
  "kernelspec": {
   "display_name": "Python 3",
   "language": "python",
   "name": "python3"
  },
  "language_info": {
   "codemirror_mode": {
    "name": "ipython",
    "version": 3
   },
   "file_extension": ".py",
   "mimetype": "text/x-python",
   "name": "python",
   "nbconvert_exporter": "python",
   "pygments_lexer": "ipython3",
   "version": "3.7.2"
  }
 },
 "nbformat": 4,
 "nbformat_minor": 4
}
