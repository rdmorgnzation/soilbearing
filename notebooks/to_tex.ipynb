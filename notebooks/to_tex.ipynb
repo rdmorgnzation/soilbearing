{
 "cells": [
  {
   "cell_type": "code",
   "execution_count": 1,
   "metadata": {},
   "outputs": [],
   "source": [
    "#Imports\n",
    "import resources\n",
    "import pandas as pd\n",
    "from blcalc.soilproperty import SoilProperty\n",
    "from blcalc.material import LayerSoil\n",
    "from blcalc.footing import Footing, FootingType, FootingData\n",
    "from blcalc.assembly import Assembly\n",
    "from blcalc.solver import Solver, Methods\n",
    "import numpy as np"
   ]
  },
  {
   "cell_type": "code",
   "execution_count": 2,
   "metadata": {},
   "outputs": [],
   "source": [
    "filepath = resources.secrets_dir() / \"calc-merged.xlsx\""
   ]
  },
  {
   "cell_type": "code",
   "execution_count": 3,
   "metadata": {},
   "outputs": [
    {
     "data": {
      "text/plain": [
       "Index(['Depth', 'R.L of GWT', 'SPT(N)', 'N', 'Soil Type', 'Qu', 'Cu', 'phi',\n",
       "       'Cb', 'Cs', 'Eh', 'Cr', 'gamma', 'w', 'G', 'Dry unit wt',\n",
       "       'Saturated Unit weight', 'Vertical Effective Strees',\n",
       "       'Total Effective Stress', 'CN', 'N60', 'FC', 'del(N1)60', '(N1)60CS',\n",
       "       'CRR', 'Shear Reduction Factor', 'MSF', 'fake-Csigma', 'C-sigma',\n",
       "       'fake-K-sigma', 'K-sigma', 'a/g', 'CSR', 'FS', 'Fz', 'Wz', 'Fz*wz*d',\n",
       "       'lpi'],\n",
       "      dtype='object')"
      ]
     },
     "execution_count": 3,
     "metadata": {},
     "output_type": "execute_result"
    }
   ],
   "source": [
    "df = pd.read_excel(str(filepath))\n",
    "df.columns"
   ]
  },
  {
   "cell_type": "code",
   "execution_count": 4,
   "metadata": {},
   "outputs": [
    {
     "name": "stdout",
     "output_type": "stream",
     "text": [
      "104  total borehole logs.\n"
     ]
    }
   ],
   "source": [
    "fields_list=[] # (from,to)\n",
    "starting = None\n",
    "for i in range(len(df.index)):\n",
    "    c=df['N60'][i]\n",
    "    if(not pd.isnull(c) and starting is None):\n",
    "        starting = i\n",
    "    if (not starting is None) and pd.isnull(c):\n",
    "        fields_list.append([starting, i])\n",
    "        starting = None\n",
    "fields_list.append([starting, len(df.index)])\n",
    "print(len(fields_list), ' total borehole logs.')"
   ]
  },
  {
   "cell_type": "code",
   "execution_count": 5,
   "metadata": {},
   "outputs": [
    {
     "name": "stdout",
     "output_type": "stream",
     "text": [
      "31 locations\n"
     ]
    }
   ],
   "source": [
    "locations_log = []\n",
    "for idx,fl in enumerate(fields_list):\n",
    "    i=fl[0]-2\n",
    "    if not (pd.isnull(df['Depth'][i]) and pd.isnull(df['R.L of GWT'][i])):\n",
    "        indx=[(df['Depth'][i],float(df['N'][i]),float(df['Soil Type'][i]))]\n",
    "        locations_log.append(indx)\n",
    "    locations_log[len(locations_log)-1].append(idx)\n",
    "    fl.append(len(locations_log)-1)\n",
    "print(len(locations_log), 'locations')"
   ]
  },
  {
   "cell_type": "code",
   "execution_count": 6,
   "metadata": {},
   "outputs": [
    {
     "name": "stdout",
     "output_type": "stream",
     "text": [
      "('Rastriya Banijya Bank: Thapathali, Kathmandu', 27.655862, 85.3064456)\n",
      "('Building Complex: Anamnagar, Kathmandu', 27.6972818, 85.3274572)\n",
      "('Building Complex: Bakhundol Lalitpur', 27.6830179, 85.3103347)\n",
      "('Hindu vidhypeth: Balkumari, Lalitpur', 27.6711385, 85.3379345)\n",
      "('DI Skin Health and Referral Center (P). Ltd.: Bansbari, Kathmandu', 27.7370376, 85.3335435)\n",
      "('Building: Bhaisipati, Lalitpur', 27.648046, 85.2959632)\n",
      "('Brihaspati Vidyasadan School: Gahanapokhari, Kathmandu', 27.7142534, 85.3295707)\n",
      "('Green Hill City (P). Ltd. : Mulpani, Kathamndu ', 27.7157651, 85.386468)\n",
      "('Building Site: Itachhe tol, Bhaktapur', 27.6728428, 85.4226077)\n",
      "('Buddha Air (P). Ltd. : Jawalakhel, Lalitpur ', 27.6735721, 85.3118742)\n",
      "('Tamrakar Samaj: Jawalakhel', 27.6747489, 85.312196)\n",
      "('Tangal, Kathmandu', 27.7200932, 85.3262587)\n",
      "('Harihar Bhavan, Lalitpur', 27.6804712, 85.3111097)\n",
      "('Janamaitri Campus: Kuleswore, Kathmandu', 27.6917301, 85.290048)\n",
      "('Amrit Science Campus: Lainchour, Kathmandu', 27.717759, 85.3106128)\n",
      "('Mahendra Ratna Campus: Tahachal, Kathmandu', 27.7034569, 85.2982083)\n",
      "('Bhatbhateni Supermarket & Departmental Store: Satdobato, Lalitpur', 27.6571216, 85.3200197)\n",
      "('Nepal Mountaineering Association :  Naxal, Nagpokhari Kathmandu ', 27.713026, 85.3216663)\n",
      "('Patanjali Yogpeeth Nepal : Mandikatar, Kathmandu ', 27.7411451, 85.3455466)\n",
      "('Mandikhatar, Kathmandu ', 27.7387763, 85.345348)\n",
      "('CIWEC Clinic: Lainchaur, Kathmandu ', 27.7204, 85.3155503)\n",
      "('Vastukala Pharamarsha Nepal : Kupondole, Lalitpur', 27.6837566, 85.3163402)\n",
      "('Building: Kupondole, Lalitpur', 27.6862843, 85.3147013)\n",
      "('NAST Technology : Khumaltar, Lalitpur', 27.6561031, 85.3276755)\n",
      "('Building: Khumaltar, Lalitpur ', 27.6487024, 85.3203392)\n",
      "('Building: Kalopul, Pumori, Kathmandu', 27.7118277, 85.3353586)\n",
      "('Building Site : Gwarkho, Lalitpur', 27.6660073, 85.3284717)\n",
      "('Building: Kumaripati, Lalitpur', 27.6702548, 85.3186253)\n",
      "('Building: Kupandole, Lalitpur', 27.6870343, 85.3093023)\n",
      "('Nepal Rastra Bank: Thapathali', 27.690232, 85.319926)\n",
      "('Exam Mega Hall Construction Project : Kirtipur, Kathmandu', 27.6842636, 85.2953626)\n"
     ]
    }
   ],
   "source": [
    "for i in locations_log:\n",
    "    print(i[0])"
   ]
  },
  {
   "cell_type": "code",
   "execution_count": 7,
   "metadata": {},
   "outputs": [],
   "source": [
    "#get material info from table\n",
    "\n",
    "def get_layer(row):\n",
    "    layer = {}\n",
    "    layer[SoilProperty.SPT_N] = df['SPT(N)'][row]\n",
    "    layer[SoilProperty.depth] = df['Depth'][row]\n",
    "    layer[SoilProperty.gamma] = df['gamma'][row]\n",
    "    layer[SoilProperty.GI] = df['Soil Type'][row]\n",
    "    if not pd.isnull(df['phi'][row]):\n",
    "        layer[SoilProperty.phi] = df['phi'][row]\n",
    "    if not pd.isnull(df['Qu'][row]):\n",
    "        layer[SoilProperty.qu] = df['Qu'][row]\n",
    "    if not pd.isnull(df['Cu'][row]):\n",
    "        layer[SoilProperty.cu] = df['Cu'][row]\n",
    "    layer[SoilProperty.water_per] = df['w'][row]\n",
    "    layer[SoilProperty.G] = df['G'][row]\n",
    "    layer[SoilProperty.FC] = df['FC'][row]\n",
    "    return layer\n",
    "\n",
    "def get_material(idx, isliquifaction=False):\n",
    "    data=[]\n",
    "    for i in range(fields_list[idx][0],fields_list[idx][1]):\n",
    "        data.append(get_layer(i))\n",
    "    water_depth = 0 \n",
    "    if isliquifaction:\n",
    "        water_depth = df['R.L of GWT'][fields_list[idx][0]]\n",
    "    return LayerSoil(data, water_depth, idx)"
   ]
  },
  {
   "cell_type": "code",
   "execution_count": 8,
   "metadata": {},
   "outputs": [],
   "source": [
    "#Get footing info\n",
    "def get_footing(depth=1.5):\n",
    "    footing = Footing()\n",
    "    footing[FootingData.Type] = FootingType.Square\n",
    "    footing[FootingData.Depth] = depth\n",
    "    footing[FootingData.Width] = 2\n",
    "    footing[FootingData.Length] = 2\n",
    "    return footing"
   ]
  },
  {
   "cell_type": "code",
   "execution_count": 19,
   "metadata": {},
   "outputs": [],
   "source": [
    "methods = []\n",
    "for i in Methods:\n",
    "    methods.append(i.value)\n",
    "\n",
    "def get_result(ixx):\n",
    "    res = []\n",
    "    footing = get_footing()\n",
    "    lay = get_material(ixx)\n",
    "    lay2 = get_material(ixx,True)\n",
    "    assembly = Assembly(footing, lay2)\n",
    "    solver = Solver(assembly)\n",
    "    lpi = solver.run([Methods.Liquifaction])[Methods.Liquifaction]\n",
    "    for depth in [1.5,3,4.5]:\n",
    "        footing = get_footing(depth)\n",
    "        assembly = Assembly(footing, lay)\n",
    "        solver = Solver(assembly)\n",
    "        result = solver.run()\n",
    "        result[Methods.Liquifaction] = lpi\n",
    "        res.append(result)\n",
    "    return res    \n",
    "    \n",
    "depths_results = [[],[],[]]\n",
    "\n",
    "f=open('../secrets/results.tex', 'w')\n",
    "#f.write('\\\\documentclass[12pt, a4paper]{scrreprt}\\n')\n",
    "#f.write('\\\\usepackage{times}\\n')\n",
    "#f.write('\\\\usepackage{multirow}\\n')\n",
    "#f.write('\\\\usepackage{lscape}\\n')\n",
    "#f.write('\\\\usepackage{tabularx}\\n')\n",
    "#f.write('\\\\begin{document}\\n')\n",
    "from pylatexenc.latexencode import unicode_to_latex as u2l\n",
    "\n",
    "for i in locations_log:\n",
    "    liquifactions_array = []\n",
    "    shear_array = [[],[],[]]\n",
    "    deflection_array = [[],[],[]]\n",
    "    f.write('{\\\\large \\\\textbf{%s}}\\\\newline\\n'%u2l(i[0][0]))\n",
    "    bcount = 0\n",
    "    for j in range(1,len(i)):\n",
    "        bcount += 1\n",
    "        result = get_result(i[j])\n",
    "        liquifactions_array.append(result[0][Methods.Liquifaction])\n",
    "        f.write('\\\\textbf{Borehole: %s}\\n\\\\newline\\n'%bcount)\n",
    "        f.write('\\\\textbf{Shear}\\\\newline\\n')\n",
    "        f.write('\\\\begin{tabularx}{\\\\textwidth}{ | X | X | X | X | X | X | }\\n')\n",
    "        f.write('\\\\hline\\n')\n",
    "        f.write(' \\\\textbf{Depth} & \\\\textbf{Terzaghi}* & \\\\textbf{Meyerhof} & \\\\textbf{Hansen} & \\\\textbf{Vesic} & \\\\textbf{Plaxis} \\\\\\\\\\n') \n",
    "        f.write('\\\\hline\\n')\n",
    "        f.write(' \\\\textbf{1.5} & %.2f & %.2f & %.2f & %.2f & %.2f \\\\\\\\\\n'%(result[0][Methods.Terzaghi],result[0][Methods.Meyerhof],result[0][Methods.Hansen],result[0][Methods.Vesic],result[0][Methods.PlasixShear]))\n",
    "        f.write(' \\\\textbf{3.0} & %.2f & %.2f & %.2f & %.2f & %.2f \\\\\\\\\\n'%(result[1][Methods.Terzaghi],result[1][Methods.Meyerhof],result[1][Methods.Hansen],result[1][Methods.Vesic],result[1][Methods.PlasixShear]))\n",
    "        f.write('\\\\hline\\n')\n",
    "        f.write('\\\\end{tabularx}\\n\\\\hfill\\\\break\\n')\n",
    "        f.write('\\\\linebreak\\n')\n",
    "        f.write('\\\\textbf{Deflection}\\\\newline\\n')\n",
    "        f.write('\\\\begin{tabularx}{\\\\textwidth}{ | X | X | X | X | X | X | X | p{0.1\\\\linewidth} | }\\n')\n",
    "        f.write('\\\\hline\\n')\n",
    "        f.write(' \\\\textbf{Depth} & \\\\textbf{Bowels} & \\\\textbf{Teng} & \\\\textbf{Plaxis} & \\\\textbf{Peck} & \\\\textbf{Teng2} & \\\\textbf{Bowels2}* & \\\\textbf{Meyerhof} \\\\\\\\\\n')\n",
    "        f.write('\\\\hline\\n')\n",
    "        f.write(' \\\\textbf{1.5} & %.2f & %.2f & %.2f & %.2f & %.2f & %.2f & %.2f \\\\\\\\\\n '%(result[0][Methods.Bowels],result[0][Methods.Teng],result[0][Methods.Plasix],result[0][Methods.Peck],result[0][Methods.TengDeflection],result[0][Methods.Bowels2],result[0][Methods.MeyerhofDeflection]))\n",
    "        f.write(' \\\\textbf{3.0} & %.2f & %.2f & %.2f & %.2f & %.2f & %.2f & %.2f \\\\\\\\\\n '%(result[1][Methods.Bowels],result[1][Methods.Teng],result[1][Methods.Plasix],result[1][Methods.Peck],result[1][Methods.TengDeflection],result[1][Methods.Bowels2],result[1][Methods.MeyerhofDeflection]))\n",
    "        f.write(' \\\\textbf{4.5} & %.2f & %.2f & %.2f & %.2f & %.2f & %.2f & %.2f \\\\\\\\\\n '%(result[2][Methods.Bowels],result[2][Methods.Teng],result[2][Methods.Plasix],result[2][Methods.Peck],result[2][Methods.TengDeflection],result[2][Methods.Bowels2],result[2][Methods.MeyerhofDeflection]))\n",
    "        f.write('\\\\hline\\n')\n",
    "        f.write('\\\\end{tabularx}\\n\\\\hfill\\\\break\\n')\n",
    "        f.write('\\\\linebreak\\n')\n",
    "        f.write('\\\\textbf{LPI}: %.2f\\n\\\\newline\\n'%result[0][Methods.Liquifaction])\n",
    "        f.write('\\\\newline\\\\break\\n')\n",
    "        for xx in range(3):\n",
    "            #avg failed\n",
    "            avg = (result[xx][Methods.Meyerhof]+result[xx][Methods.Hansen]+result[xx][Methods.Vesic])/3\n",
    "            #shear_array[xx].append(result[xx][Methods.Meyerhof])\n",
    "            #shear_array[xx].append(result[xx][Methods.Hansen])\n",
    "            #shear_array[xx].append(result[xx][Methods.Vesic])\n",
    "            shear_array[xx].append(avg)\n",
    "            shear_array[xx].append(result[xx][Methods.PlasixShear])\n",
    "            deflection_array[xx].append(result[xx][Methods.Bowels])\n",
    "            deflection_array[xx].append(result[xx][Methods.Teng])\n",
    "            deflection_array[xx].append(result[xx][Methods.Peck])\n",
    "            deflection_array[xx].append(result[xx][Methods.TengDeflection])\n",
    "            deflection_array[xx].append(result[xx][Methods.MeyerhofDeflection])\n",
    "            deflection_array[xx].append(result[xx][Methods.Plasix])\n",
    "    #We now compiled data for all locations\n",
    "    liquifactions_avg = np.average(liquifactions_array)\n",
    "    f.write('\\\\textbf{Summary:}\\\\newline\\n')\n",
    "    f.write('\\\\begin{tabularx}{\\\\textwidth}{ | X | X | X | X | X | X | }\\n')\n",
    "    f.write('\\\\hline\\n')\n",
    "    f.write(' \\\\textbf{Depth} & \\\\textbf{Shear} & \\\\textbf{Deflection} & \\\\textbf{LPI} & \\\\textbf{Latitude} & \\\\textbf{Longitude}\\\\\\\\\\n') \n",
    "    f.write('\\\\hline\\n')\n",
    "    for xx,depthx in enumerate([1.5,3.0,4.5]):\n",
    "        row = [i[0][0],i[0][1],i[0][2]]\n",
    "        row.append(liquifactions_avg)\n",
    "        row.append(np.quantile(shear_array[xx],0.5))\n",
    "        row.append(np.quantile(deflection_array[xx],0.5))\n",
    "        if xx==0:\n",
    "            f.write(' \\\\textbf{%.1f} & %.2f & %.2f & \\\\multirow{3}{*}{%.2f} & \\\\multirow{3}{*}{%f} & \\\\multirow{3}{*}{%f} \\\\\\\\\\n'%(depthx,np.quantile(shear_array[xx],0.5),np.quantile(deflection_array[xx],0.5),liquifactions_avg,i[0][1],i[0][2]))\n",
    "        else:\n",
    "            f.write(' \\\\textbf{%.1f} & %.2f & %.2f & & & \\\\\\\\\\n'%(depthx,np.quantile(shear_array[xx],0.5),np.quantile(deflection_array[xx],0.5)))\n",
    "        depths_results[xx].append(row)\n",
    "    f.write('\\\\hline\\n')\n",
    "    f.write('\\\\end{tabularx}\\n\\\\hfill\\\\break\\n')\n",
    "    #if j!=len(i)-1:\n",
    "    f.write('\\\\linebreak\\\\newline\\n')\n",
    "    f.write('\\\\newline\\n')\n",
    "    #    f.write('\\\\hfill\\\\break\\n')\n",
    "\n",
    "f.write('\\\\begin{landscape}\\n')\n",
    "f.write('\\\\footnotesize\\n')\n",
    "for xx, depth in enumerate([1.5,3.0,4.5]):\n",
    "    f.write('\\\\newpage\\n')\n",
    "    f.write('{\\\\large %.1fm}\\\\newline\\n'% depth)\n",
    "    f.write('\\\\newline\\n')\n",
    "    f.write('\\\\begin{tabular}{ | l | c | c | c | c | c | }\\n')\n",
    "    f.write('\\\\hline\\n')\n",
    "    f.write(' \\\\textbf{Location} & \\\\textbf{Latitude} & \\\\textbf{Longitude} & \\\\textbf{LPI} & \\\\textbf{Shear} & \\\\textbf{Deflection} \\\\\\\\\\n')\n",
    "    f.write('\\\\hline\\n')\n",
    "    for i in depths_results[xx]:\n",
    "        f.write(' %s & %.5f & %.5f & %.2f & %.2f & %.2f \\\\\\\\\\n'%(u2l(i[0]),i[1],i[2],i[3],i[4],i[5]))\n",
    "    f.write('\\\\hline\\n')\n",
    "    f.write('\\\\end{tabular}\\n')\n",
    "\n",
    "f.write('\\\\end{landscape}\\n')\n",
    "#f.write('\\\\end{document}\\n')\n",
    "f.close()"
   ]
  },
  {
   "cell_type": "code",
   "execution_count": null,
   "metadata": {},
   "outputs": [],
   "source": []
  }
 ],
 "metadata": {
  "kernelspec": {
   "display_name": "Python 3",
   "language": "python",
   "name": "python3"
  },
  "language_info": {
   "codemirror_mode": {
    "name": "ipython",
    "version": 3
   },
   "file_extension": ".py",
   "mimetype": "text/x-python",
   "name": "python",
   "nbconvert_exporter": "python",
   "pygments_lexer": "ipython3",
   "version": "3.7.2"
  }
 },
 "nbformat": 4,
 "nbformat_minor": 4
}
