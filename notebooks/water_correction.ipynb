{
 "cells": [
  {
   "cell_type": "code",
   "execution_count": 46,
   "metadata": {},
   "outputs": [],
   "source": [
    "def water_level_correction(width_footing, depth_footing, water_depth=0):\n",
    "    \"\"\"\n",
    "    Provide values that are common to all methods\n",
    "    \"\"\"\n",
    "    dw1 = water_depth\n",
    "    dw2 = water_depth - depth_footing\n",
    "    if dw2<0:\n",
    "        dw2=0\n",
    "    #save some values\n",
    "    top_dist_ratio = dw1/depth_footing\n",
    "    bottom_dist_ratio = dw2/width_footing\n",
    "    rw1 = 0.5 * (1 + top_dist_ratio)\n",
    "    rw2 = 0.5 * (1 + bottom_dist_ratio)\n",
    "    if rw1 > 1: #water level above base level of foundation\n",
    "        rw1=1\n",
    "    if rw2 > 1:#water level below base level of foundation\n",
    "        rw2=1\n",
    "    print(rw1,rw2)"
   ]
  },
  {
   "cell_type": "code",
   "execution_count": 49,
   "metadata": {},
   "outputs": [
    {
     "name": "stdout",
     "output_type": "stream",
     "text": [
      "1 0.75\n"
     ]
    }
   ],
   "source": [
    "water_level_correction(2, 2, 3)"
   ]
  }
 ],
 "metadata": {
  "kernelspec": {
   "display_name": "Python 3",
   "language": "python",
   "name": "python3"
  },
  "language_info": {
   "codemirror_mode": {
    "name": "ipython",
    "version": 3
   },
   "file_extension": ".py",
   "mimetype": "text/x-python",
   "name": "python",
   "nbconvert_exporter": "python",
   "pygments_lexer": "ipython3",
   "version": "3.7.2"
  }
 },
 "nbformat": 4,
 "nbformat_minor": 4
}
