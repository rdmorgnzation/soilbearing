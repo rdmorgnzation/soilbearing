{
 "cells": [
  {
   "cell_type": "code",
   "execution_count": 1,
   "metadata": {},
   "outputs": [],
   "source": [
    "#Imports\n",
    "import resources\n",
    "import pandas as pd\n",
    "from blcalc.soilproperty import SoilProperty\n",
    "from blcalc.material import LayerSoil\n",
    "from blcalc.footing import Footing, FootingType, FootingData\n",
    "from blcalc.assembly import Assembly\n",
    "from blcalc.solver import Solver, Methods"
   ]
  },
  {
   "cell_type": "code",
   "execution_count": 2,
   "metadata": {},
   "outputs": [],
   "source": [
    "filepath = resources.secrets_dir() / \"calc-merged.xlsx\""
   ]
  },
  {
   "cell_type": "code",
   "execution_count": 3,
   "metadata": {},
   "outputs": [
    {
     "data": {
      "text/plain": [
       "Index(['Depth', 'R.L of GWT', 'SPT(N)', 'N', 'Soil Type', 'Qu', 'Cu', 'phi',\n",
       "       'Cb', 'Cs', 'Eh', 'Cr', 'gamma', 'w', 'G', 'Dry unit wt',\n",
       "       'Saturated Unit weight', 'Vertical Effective Strees',\n",
       "       'Total Effective Stress', 'CN', 'N60', 'FC', 'del(N1)60', '(N1)60CS',\n",
       "       'CRR', 'Shear Reduction Factor', 'MSF', 'fake-Csigma', 'C-sigma',\n",
       "       'fake-K-sigma', 'K-sigma', 'a/g', 'CSR', 'FS', 'Fz', 'Wz', 'Fz*wz*d',\n",
       "       'lpi'],\n",
       "      dtype='object')"
      ]
     },
     "execution_count": 3,
     "metadata": {},
     "output_type": "execute_result"
    }
   ],
   "source": [
    "df = pd.read_excel(str(filepath))\n",
    "df.columns"
   ]
  },
  {
   "cell_type": "code",
   "execution_count": 4,
   "metadata": {},
   "outputs": [
    {
     "name": "stdout",
     "output_type": "stream",
     "text": [
      "104  total borehole logs.\n"
     ]
    }
   ],
   "source": [
    "fields_list=[] # (from,to)\n",
    "starting = None\n",
    "for i in range(len(df.index)):\n",
    "    c=df['N60'][i]\n",
    "    if(not pd.isnull(c) and starting is None):\n",
    "        starting = i\n",
    "    if (not starting is None) and pd.isnull(c):\n",
    "        fields_list.append([starting, i])\n",
    "        starting = None\n",
    "fields_list.append([starting, len(df.index)])\n",
    "print(len(fields_list), ' total borehole logs.')"
   ]
  },
  {
   "cell_type": "code",
   "execution_count": 5,
   "metadata": {},
   "outputs": [
    {
     "name": "stdout",
     "output_type": "stream",
     "text": [
      "32 locations\n"
     ]
    }
   ],
   "source": [
    "locations_log = []\n",
    "for idx,fl in enumerate(fields_list):\n",
    "    i=fl[0]-2\n",
    "    if not (pd.isnull(df['Depth'][i]) and pd.isnull(df['R.L of GWT'][i])):\n",
    "        indx=[(df['Depth'][i],df['R.L of GWT'][i])]\n",
    "        locations_log.append(indx)\n",
    "    locations_log[len(locations_log)-1].append(idx)\n",
    "    fl.append(len(locations_log)-1)\n",
    "print(len(locations_log), 'locations')"
   ]
  },
  {
   "cell_type": "code",
   "execution_count": 6,
   "metadata": {},
   "outputs": [
    {
     "name": "stdout",
     "output_type": "stream",
     "text": [
      "('Rastriya Banijya Bank ', 'Thapathali, Kathmandu')\n",
      "('Building Complex', 'Anamnagar, Kathmandu')\n",
      "('Building Complex', 'Bakhundol Lalitpur')\n",
      "('Hindu vidhypeth ', 'Balkumari, Lalitpur')\n",
      "('Building Complex', 'Bansbari DI, Kathmandu')\n",
      "('Building Site', 'Basbari')\n",
      "(nan, 'Bhaisipati Lalitpur')\n",
      "(nan, 'Gahanapokhari')\n",
      "(nan, 'Imadole')\n",
      "(nan, 'Itchhen, Bhaktapur')\n",
      "(nan, 'Jawalakhel')\n",
      "('Tamrakar Samaj', 'Jawalakhel')\n",
      "(nan, 'Tangal')\n",
      "('HariharBhawan', nan)\n",
      "(nan, 'Kuleshwor')\n",
      "('Amrit Science Campus', nan)\n",
      "(nan, 'Tahachal')\n",
      "(nan, 'Satdobato')\n",
      "(nan, 'Naxal')\n",
      "(nan, 'Mandikhatar-1')\n",
      "(nan, 'Mandikhatar')\n",
      "(nan, 'Lainchaur')\n",
      "(nan, 'Kupondole-2')\n",
      "(nan, 'Kupandol-1')\n",
      "(nan, 'Khumaltar-1')\n",
      "(nan, 'Khumaltar')\n",
      "(nan, 'Kalopul-Pumori')\n",
      "('Building Site(Sir)', 'Gwarkho')\n",
      "('Building Site(Sir)', 'Kumaripati')\n",
      "('Building Site(Sir)', 'Kupondole')\n",
      "('Nepal Rastra Bank', 'Thapathali')\n",
      "('Exam Mega Hall Construction Project(Sir)', 'Kirtipur, Kathmandu')\n"
     ]
    }
   ],
   "source": [
    "for i in locations_log:\n",
    "    print(i[0])"
   ]
  },
  {
   "cell_type": "code",
   "execution_count": 7,
   "metadata": {},
   "outputs": [],
   "source": [
    "#get material info from table\n",
    "\n",
    "def get_layer(row):\n",
    "    layer = {}\n",
    "    layer[SoilProperty.SPT_N] = df['SPT(N)'][row]\n",
    "    layer[SoilProperty.depth] = df['Depth'][row]\n",
    "    layer[SoilProperty.gamma] = df['gamma'][row]\n",
    "    layer[SoilProperty.GI] = df['Soil Type'][row]\n",
    "    if not pd.isnull(df['phi'][row]):\n",
    "        layer[SoilProperty.phi] = df['phi'][row]\n",
    "    if not pd.isnull(df['Qu'][row]):\n",
    "        layer[SoilProperty.qu] = df['Qu'][row]\n",
    "    if not pd.isnull(df['Cu'][row]):\n",
    "        layer[SoilProperty.cu] = df['Cu'][row]\n",
    "    layer[SoilProperty.water_per] = df['w'][row]\n",
    "    layer[SoilProperty.G] = df['G'][row]\n",
    "    layer[SoilProperty.FC] = df['FC'][row]\n",
    "    return layer\n",
    "\n",
    "def get_material(idx, isliquifaction=False):\n",
    "    data=[]\n",
    "    for i in range(fields_list[idx][0],fields_list[idx][1]):\n",
    "        data.append(get_layer(i))\n",
    "    water_depth = 0 \n",
    "    if isliquifaction:\n",
    "        water_depth = df['R.L of GWT'][fields_list[idx][0]]\n",
    "    return LayerSoil(data, water_depth, idx)"
   ]
  },
  {
   "cell_type": "code",
   "execution_count": 8,
   "metadata": {},
   "outputs": [],
   "source": [
    "#Get footing info\n",
    "def get_footing(depth=1.5):\n",
    "    footing = Footing()\n",
    "    footing[FootingData.Type] = FootingType.Square\n",
    "    footing[FootingData.Depth] = depth\n",
    "    footing[FootingData.Width] = 2\n",
    "    footing[FootingData.Length] = 2\n",
    "    return footing"
   ]
  },
  {
   "cell_type": "code",
   "execution_count": 9,
   "metadata": {},
   "outputs": [],
   "source": [
    "import csv\n",
    "\n",
    "methods = []\n",
    "for i in Methods:\n",
    "    methods.append(i.value)\n",
    "\n",
    "with open('../secrets/results.csv', 'w', newline=\"\") as csvfile:\n",
    "    writer = csv.writer(csvfile)\n",
    "    writer.writerow(methods)\n",
    "    for  ixx in range(len(fields_list)):\n",
    "        footing = get_footing()\n",
    "        lay = get_material(ixx)\n",
    "        lay2 = get_material(ixx,True)\n",
    "        assembly = Assembly(footing, lay2)\n",
    "        solver = Solver(assembly)\n",
    "        lpi = solver.run([Methods.Liquifaction])[Methods.Liquifaction]\n",
    "        for depth in [1.5,3,4.5]:\n",
    "            footing = get_footing(depth)\n",
    "            assembly = Assembly(footing, lay)\n",
    "            solver = Solver(assembly)\n",
    "            result = solver.run()\n",
    "            result[Methods.Liquifaction] = lpi\n",
    "            row = []\n",
    "            for i in Methods:\n",
    "                row.append(result[i])\n",
    "            writer.writerow(row)\n",
    "        writer.writerow([])"
   ]
  }
 ],
 "metadata": {
  "kernelspec": {
   "display_name": "Python 3",
   "language": "python",
   "name": "python3"
  },
  "language_info": {
   "codemirror_mode": {
    "name": "ipython",
    "version": 3
   },
   "file_extension": ".py",
   "mimetype": "text/x-python",
   "name": "python",
   "nbconvert_exporter": "python",
   "pygments_lexer": "ipython3",
   "version": "3.7.2"
  }
 },
 "nbformat": 4,
 "nbformat_minor": 4
}
