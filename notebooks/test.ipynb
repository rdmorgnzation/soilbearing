{
 "cells": [
  {
   "cell_type": "code",
   "execution_count": 1,
   "metadata": {},
   "outputs": [],
   "source": [
    "#imports from Standard Libray"
   ]
  },
  {
   "cell_type": "code",
   "execution_count": 2,
   "metadata": {},
   "outputs": [],
   "source": [
    "#Other imports from library\n",
    "import resources #Must be 1st line\n",
    "from blcalc import root_dir\n",
    "from blcalc.excel_load import BoreholeDataSheets\n",
    "from blcalc.borehole_parser import BoreholeLog\n",
    "from blcalc.material import LayerSoil"
   ]
  },
  {
   "cell_type": "markdown",
   "metadata": {},
   "source": [
    "## Sample Calculation"
   ]
  },
  {
   "cell_type": "code",
   "execution_count": 3,
   "metadata": {},
   "outputs": [],
   "source": [
    "filepath = resources.test_data_dir() / \"bh1.xls\""
   ]
  },
  {
   "cell_type": "markdown",
   "metadata": {},
   "source": [
    "<img src=\"../doc/excel_screenshot/excel_sheet.png\">"
   ]
  },
  {
   "cell_type": "code",
   "execution_count": 4,
   "metadata": {},
   "outputs": [],
   "source": [
    "#Parse it first\n",
    "sheets = BoreholeDataSheets.load_file(str(filepath.resolve()))"
   ]
  },
  {
   "cell_type": "code",
   "execution_count": 5,
   "metadata": {},
   "outputs": [],
   "source": [
    "#Parse 1st sheet\n",
    "keys = list(sheets.keys())\n",
    "sheet = sheets[keys[0]]\n",
    "borehole_log = BoreholeLog(sheet)"
   ]
  },
  {
   "cell_type": "code",
   "execution_count": 6,
   "metadata": {},
   "outputs": [
    {
     "data": {
      "text/plain": [
       "{'project name': '<REMOVED>',\n",
       " 'location': 'Bhainsepati, Lalitpur',\n",
       " 'bore hole no': '1.0',\n",
       " 'diameter of bh, mm': '100.0',\n",
       " 'date': '<REMOVED>',\n",
       " 'logged by': '<REMOVED>',\n",
       " 'checked by': '<REMOVED>',\n",
       " 'certified by': '<REMOVED>'}"
      ]
     },
     "execution_count": 6,
     "metadata": {},
     "output_type": "execute_result"
    }
   ],
   "source": [
    "#Attributes obtained from data\n",
    "borehole_log.attributes"
   ]
  },
  {
   "cell_type": "code",
   "execution_count": 7,
   "metadata": {},
   "outputs": [
    {
     "data": {
      "text/plain": [
       "[{'depth': 1.5, 'spt': 11.0, 'GI': 'MI'},\n",
       " {'depth': 2.5, 'spt': 15.0, 'GI': 'MI'},\n",
       " {'depth': 3.0, 'spt': 17.0, 'GI': 'MI'},\n",
       " {'depth': 4.5, 'spt': 24.0, 'GI': 'GM'},\n",
       " {'depth': 6.0, 'spt': 27.0, 'GI': 'GM'},\n",
       " {'depth': 7.5, 'spt': 32.0, 'GI': 'GM'},\n",
       " {'depth': 9.0, 'spt': 36.0, 'GI': 'MG'},\n",
       " {'depth': 10.5, 'spt': 36.0, 'GI': 'GM'},\n",
       " {'depth': 12.0, 'spt': 37.0, 'GI': 'GM'}]"
      ]
     },
     "execution_count": 7,
     "metadata": {},
     "output_type": "execute_result"
    }
   ],
   "source": [
    "borehole_log.values\n",
    "#Add data in between"
   ]
  },
  {
   "cell_type": "code",
   "execution_count": 8,
   "metadata": {},
   "outputs": [
    {
     "name": "stdout",
     "output_type": "stream",
     "text": [
      "{'depth': 1.5, 'spt': 11.0, 'GI': 'ML', 'q': 0.0, 'n60': 7.562500000000001, '_pc': 2, 'gamma': 17.934375, 'cu': 80, 'phi': 0.01, 'e': 20796.875000000004, 'nu': 0.5}\n",
      "{'depth': 2.5, 'spt': 15.0, 'GI': 'ML', 'q': 26.901562499999997, 'n60': 10.312500000000002, '_pc': 3, 'gamma': 18.346875, 'cu': 150, 'phi': 0.01, 'e': 30000, 'nu': 0.5}\n",
      "{'depth': 3.0, 'spt': 17.0, 'GI': 'ML', 'q': 45.248437499999994, 'n60': 11.6875, '_pc': 3, 'gamma': 18.553125, 'cu': 150, 'phi': 0.01, 'e': 30000, 'nu': 0.5}\n",
      "{'depth': 4.5, 'spt': 24.0, 'GI': 'GM', 'q': 54.52499999999999, 'n60': 16.5, '_pc': 4, 'gamma': 19.275000000000002, 'cu': 218.26617500197716, 'phi': 0.01, 'e': 99000.0, 'nu': 0.5}\n",
      "{'depth': 6.0, 'spt': 27.0, 'GI': 'GM', 'q': 83.4375, 'n60': 18.562500000000004, '_pc': 4, 'gamma': 19.584375, 'cu': 237.583487949553, 'phi': 0.01, 'e': 111375.00000000003, 'nu': 0.5}\n",
      "{'depth': 7.5, 'spt': 32.0, 'GI': 'GM', 'q': 112.8140625, 'n60': 22.000000000000004, '_pc': 4, 'gamma': 20.1, 'cu': 268.49878704205287, 'phi': 0.01, 'e': 132000.00000000003, 'nu': 0.5}\n",
      "{'depth': 9.0, 'spt': 36.0, 'GI': 'MG', 'q': 142.9640625, 'n60': 19.875, '_pc': 2, 'gamma': 17.9875, 'cu': 25, 'phi': 32.8491915625, 'e': 19875.0, 'nu': 0.3}\n",
      "{'depth': 10.5, 'spt': 36.0, 'GI': 'GM', 'q': 169.9453125, 'n60': 24.750000000000004, '_pc': 4, 'gamma': 20.512500000000003, 'cu': 292.2618602497492, 'phi': 0.01, 'e': 148500.00000000003, 'nu': 0.5}\n",
      "{'depth': 12.0, 'spt': 37.0, 'GI': 'GM', 'q': 200.7140625, 'n60': 25.437500000000004, '_pc': 4, 'gamma': 20.615625, 'cu': 298.0846311973957, 'phi': 0.01, 'e': 152625.00000000003, 'nu': 0.5}\n"
     ]
    }
   ],
   "source": [
    "soil_material = LayerSoil(borehole_log.values)\n",
    "for i in soil_material.get():\n",
    "    print(i)"
   ]
  },
  {
   "cell_type": "code",
   "execution_count": 9,
   "metadata": {},
   "outputs": [
    {
     "name": "stdout",
     "output_type": "stream",
     "text": [
      "{'depth': 0.5, 'spt': 11.0, 'GI': 'ML', 'q': 8.9671875, 'n60': 7.562500000000001, '_pc': 2, 'gamma': 17.934375, 'cu': 80, 'phi': 0.01, 'e': 20796.875000000004, 'nu': 0.5}\n",
      "{'depth': 2, 'spt': 15.0, 'GI': 'ML', 'q': 17.934374999999996, 'n60': 10.312500000000002, '_pc': 3, 'gamma': 18.346875, 'cu': 150, 'phi': 0.01, 'e': 30000, 'nu': 0.5}\n"
     ]
    }
   ],
   "source": [
    "#find between\n",
    "print(soil_material.get(0.5))\n",
    "print(soil_material.get(2))"
   ]
  }
 ],
 "metadata": {
  "kernelspec": {
   "display_name": "Python 3",
   "language": "python",
   "name": "python3"
  },
  "language_info": {
   "codemirror_mode": {
    "name": "ipython",
    "version": 3
   },
   "file_extension": ".py",
   "mimetype": "text/x-python",
   "name": "python",
   "nbconvert_exporter": "python",
   "pygments_lexer": "ipython3",
   "version": "3.7.2"
  }
 },
 "nbformat": 4,
 "nbformat_minor": 4
}
