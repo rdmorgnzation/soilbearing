{
 "cells": [
  {
   "cell_type": "code",
   "execution_count": 1,
   "metadata": {},
   "outputs": [],
   "source": [
    "#imports from Standard Libray"
   ]
  },
  {
   "cell_type": "code",
   "execution_count": 1,
   "metadata": {},
   "outputs": [],
   "source": [
    "#Other imports from library\n",
    "import resources #Must be 1st line\n",
    "from blcalc import root_dir\n",
    "from blcalc.excel_load import BoreholeDataSheets\n",
    "from blcalc.borehole_parser import BoreholeLog\n",
    "from blcalc.material import LayerSoil"
   ]
  },
  {
   "cell_type": "markdown",
   "metadata": {},
   "source": [
    "## Sample Calculation"
   ]
  },
  {
   "cell_type": "code",
   "execution_count": 2,
   "metadata": {},
   "outputs": [],
   "source": [
    "filepath = resources.test_data_dir() / \"bh1.xls\""
   ]
  },
  {
   "cell_type": "markdown",
   "metadata": {},
   "source": [
    "<img src=\"excel_screenshot/excel_sheet.png\">"
   ]
  },
  {
   "cell_type": "code",
   "execution_count": 3,
   "metadata": {},
   "outputs": [],
   "source": [
    "#Parse it first\n",
    "sheets = BoreholeDataSheets.load_file(str(filepath.resolve()))"
   ]
  },
  {
   "cell_type": "code",
   "execution_count": 4,
   "metadata": {},
   "outputs": [],
   "source": [
    "#Parse 1st sheet\n",
    "keys = list(sheets.keys())\n",
    "sheet = sheets[keys[0]]\n",
    "borehole_log = BoreholeLog(sheet)"
   ]
  },
  {
   "cell_type": "code",
   "execution_count": 6,
   "metadata": {},
   "outputs": [
    {
     "data": {
      "text/plain": [
       "{'project name': '<REMOVED>',\n",
       " 'location': 'Bhainsepati, Lalitpur',\n",
       " 'bore hole no': '1.0',\n",
       " 'diameter of bh, mm': '100.0',\n",
       " 'date': '<REMOVED>',\n",
       " 'logged by': '<REMOVED>',\n",
       " 'checked by': '<REMOVED>',\n",
       " 'certified by': '<REMOVED>'}"
      ]
     },
     "execution_count": 6,
     "metadata": {},
     "output_type": "execute_result"
    }
   ],
   "source": [
    "#Attributes obtained from data\n",
    "borehole_log.attributes"
   ]
  },
  {
   "cell_type": "code",
   "execution_count": 7,
   "metadata": {},
   "outputs": [
    {
     "data": {
      "text/plain": [
       "[{'depth': 1.5, 'spt': 11.0, 'GI': 'MI'},\n",
       " {'depth': 2.5, 'spt': 15.0, 'GI': 'MI'},\n",
       " {'depth': 3.0, 'spt': 17.0, 'GI': 'MI'},\n",
       " {'depth': 4.5, 'spt': 24.0, 'GI': 'GM'},\n",
       " {'depth': 6.0, 'spt': 27.0, 'GI': 'GM'},\n",
       " {'depth': 7.5, 'spt': 32.0, 'GI': 'GM'},\n",
       " {'depth': 9.0, 'spt': 36.0, 'GI': 'MG'},\n",
       " {'depth': 10.5, 'spt': 36.0, 'GI': 'GM'},\n",
       " {'depth': 12.0, 'spt': 37.0, 'GI': 'GM'}]"
      ]
     },
     "execution_count": 7,
     "metadata": {},
     "output_type": "execute_result"
    }
   ],
   "source": [
    "borehole_log.values\n",
    "#Add data in between"
   ]
  },
  {
   "cell_type": "code",
   "execution_count": 8,
   "metadata": {},
   "outputs": [
    {
     "name": "stdout",
     "output_type": "stream",
     "text": [
      "{'depth': 1.5, 'spt': 11.0, 'GI': 'ML', 'q': 0.0, 'n60': 7.562500000000001, '_pc': 2, 'gamma': 17.934375, 'cu': 62.23104321145598, 'phi': 0.01, 'e': 105875.00000000003, 'nu': 0.5}\n",
      "{'depth': 2.5, 'spt': 15.0, 'GI': 'ML', 'q': 26.901562499999997, 'n60': 10.312500000000002, '_pc': 3, 'gamma': 18.346875, 'cu': 77.8018734028283, 'phi': 0.01, 'e': 144375.00000000003, 'nu': 0.5}\n",
      "{'depth': 3.0, 'spt': 17.0, 'GI': 'ML', 'q': 45.248437499999994, 'n60': 11.6875, '_pc': 3, 'gamma': 18.553125, 'cu': 85.13880916784939, 'phi': 0.01, 'e': 163625.0, 'nu': 0.5}\n",
      "{'depth': 4.5, 'spt': 24.0, 'GI': 'GM', 'q': 54.52499999999999, 'n60': 16.5, '_pc': 4, 'gamma': 19.275000000000002, 'cu': 109.13308750098858, 'phi': 0.01, 'e': 231000.0, 'nu': 0.5}\n",
      "{'depth': 6.0, 'spt': 27.0, 'GI': 'GM', 'q': 83.4375, 'n60': 18.562500000000004, '_pc': 4, 'gamma': 19.584375, 'cu': 118.7917439747765, 'phi': 0.01, 'e': 259875.00000000006, 'nu': 0.5}\n",
      "{'depth': 7.5, 'spt': 32.0, 'GI': 'GM', 'q': 112.8140625, 'n60': 22.000000000000004, '_pc': 4, 'gamma': 20.1, 'cu': 134.24939352102643, 'phi': 0.01, 'e': 308000.00000000006, 'nu': 0.5}\n",
      "{'depth': 9.0, 'spt': 36.0, 'GI': 'MG', 'q': 142.9640625, 'n60': 19.875, '_pc': 2, 'gamma': 17.9875, 'cu': 0.21, 'phi': 32.8491915625, 'e': 19875.0, 'nu': 0.3}\n",
      "{'depth': 10.5, 'spt': 36.0, 'GI': 'GM', 'q': 169.9453125, 'n60': 24.750000000000004, '_pc': 4, 'gamma': 20.512500000000003, 'cu': 146.1309301248746, 'phi': 0.01, 'e': 346500.00000000006, 'nu': 0.5}\n",
      "{'depth': 12.0, 'spt': 37.0, 'GI': 'GM', 'q': 200.7140625, 'n60': 25.437500000000004, '_pc': 4, 'gamma': 20.615625, 'cu': 149.04231559869785, 'phi': 0.01, 'e': 356125.00000000006, 'nu': 0.5}\n"
     ]
    }
   ],
   "source": [
    "soil_material = LayerSoil(borehole_log.values)\n",
    "for i in soil_material.get():\n",
    "    print(i)"
   ]
  },
  {
   "cell_type": "code",
   "execution_count": 10,
   "metadata": {},
   "outputs": [
    {
     "name": "stdout",
     "output_type": "stream",
     "text": [
      "{'depth': 0.5, 'spt': 11.0, 'GI': 'ML', 'q': 8.9671875, 'n60': 7.562500000000001, '_pc': 2, 'gamma': 17.934375, 'cu': 62.23104321145598, 'phi': 0.01, 'e': 105875.00000000003, 'nu': 0.5}\n",
      "{'depth': 2, 'spt': 15.0, 'GI': 'ML', 'q': 17.934374999999996, 'n60': 10.312500000000002, '_pc': 3, 'gamma': 18.346875, 'cu': 77.8018734028283, 'phi': 0.01, 'e': 144375.00000000003, 'nu': 0.5}\n"
     ]
    },
    {
     "ename": "IndexError",
     "evalue": "list index out of range",
     "output_type": "error",
     "traceback": [
      "\u001b[0;31m---------------------------------------------------------------------------\u001b[0m",
      "\u001b[0;31mIndexError\u001b[0m                                Traceback (most recent call last)",
      "\u001b[0;32m<ipython-input-10-d5da975d6245>\u001b[0m in \u001b[0;36m<module>\u001b[0;34m\u001b[0m\n\u001b[1;32m      2\u001b[0m \u001b[0mprint\u001b[0m\u001b[0;34m(\u001b[0m\u001b[0msoil_material\u001b[0m\u001b[0;34m.\u001b[0m\u001b[0mget\u001b[0m\u001b[0;34m(\u001b[0m\u001b[0;36m0.5\u001b[0m\u001b[0;34m)\u001b[0m\u001b[0;34m)\u001b[0m\u001b[0;34m\u001b[0m\u001b[0;34m\u001b[0m\u001b[0m\n\u001b[1;32m      3\u001b[0m \u001b[0mprint\u001b[0m\u001b[0;34m(\u001b[0m\u001b[0msoil_material\u001b[0m\u001b[0;34m.\u001b[0m\u001b[0mget\u001b[0m\u001b[0;34m(\u001b[0m\u001b[0;36m2\u001b[0m\u001b[0;34m)\u001b[0m\u001b[0;34m)\u001b[0m\u001b[0;34m\u001b[0m\u001b[0;34m\u001b[0m\u001b[0m\n\u001b[0;32m----> 4\u001b[0;31m \u001b[0mprint\u001b[0m\u001b[0;34m(\u001b[0m\u001b[0msoil_material\u001b[0m\u001b[0;34m.\u001b[0m\u001b[0mget\u001b[0m\u001b[0;34m(\u001b[0m\u001b[0;36m13\u001b[0m\u001b[0;34m)\u001b[0m\u001b[0;34m)\u001b[0m\u001b[0;34m\u001b[0m\u001b[0;34m\u001b[0m\u001b[0m\n\u001b[0m",
      "\u001b[0;32m/media/rupak/Data/proj/BLCalc/blcalc/material.py\u001b[0m in \u001b[0;36mget\u001b[0;34m(self, depth)\u001b[0m\n\u001b[1;32m    216\u001b[0m             \u001b[0;32mreturn\u001b[0m \u001b[0mmat\u001b[0m\u001b[0;34m\u001b[0m\u001b[0;34m\u001b[0m\u001b[0m\n\u001b[1;32m    217\u001b[0m         \u001b[0mrow\u001b[0m\u001b[0;34m=\u001b[0m\u001b[0;36m0\u001b[0m\u001b[0;34m\u001b[0m\u001b[0;34m\u001b[0m\u001b[0m\n\u001b[0;32m--> 218\u001b[0;31m         \u001b[0;32mwhile\u001b[0m \u001b[0mself\u001b[0m\u001b[0;34m.\u001b[0m\u001b[0m_values\u001b[0m\u001b[0;34m[\u001b[0m\u001b[0mrow\u001b[0m\u001b[0;34m]\u001b[0m\u001b[0;34m[\u001b[0m\u001b[0;34m'depth'\u001b[0m\u001b[0;34m]\u001b[0m\u001b[0;34m<\u001b[0m\u001b[0mdepth\u001b[0m\u001b[0;34m:\u001b[0m\u001b[0;34m\u001b[0m\u001b[0;34m\u001b[0m\u001b[0m\n\u001b[0m\u001b[1;32m    219\u001b[0m             \u001b[0mrow\u001b[0m\u001b[0;34m+=\u001b[0m\u001b[0;36m1\u001b[0m\u001b[0;34m\u001b[0m\u001b[0;34m\u001b[0m\u001b[0m\n\u001b[1;32m    220\u001b[0m         \u001b[0mmat\u001b[0m \u001b[0;34m=\u001b[0m \u001b[0mcopy\u001b[0m\u001b[0;34m.\u001b[0m\u001b[0mcopy\u001b[0m\u001b[0;34m(\u001b[0m\u001b[0mself\u001b[0m\u001b[0;34m.\u001b[0m\u001b[0m_values\u001b[0m\u001b[0;34m[\u001b[0m\u001b[0mrow\u001b[0m\u001b[0;34m]\u001b[0m\u001b[0;34m)\u001b[0m\u001b[0;34m\u001b[0m\u001b[0;34m\u001b[0m\u001b[0m\n",
      "\u001b[0;31mIndexError\u001b[0m: list index out of range"
     ]
    }
   ],
   "source": [
    "#find between\n",
    "print(soil_material.get(0.5))\n",
    "print(soil_material.get(2))\n",
    "print(soil_material.get(13))"
   ]
  },
  {
   "cell_type": "code",
   "execution_count": 10,
   "metadata": {},
   "outputs": [],
   "source": [
    "from blcalc.methods.terzaghi import Terzaghi"
   ]
  },
  {
   "cell_type": "code",
   "execution_count": 11,
   "metadata": {},
   "outputs": [],
   "source": [
    "calc = Terzaghi(soil_material)"
   ]
  },
  {
   "cell_type": "code",
   "execution_count": 12,
   "metadata": {},
   "outputs": [
    {
     "name": "stdout",
     "output_type": "stream",
     "text": [
      "154.12162001810293\n",
      "218.40320450789787\n",
      "279.37432864779237\n"
     ]
    }
   ],
   "source": [
    "print(calc.calculate(1.5)/3)\n",
    "print(calc.calculate(3)/3)\n",
    "print(calc.calculate(4.5)/3)"
   ]
  }
 ],
 "metadata": {
  "kernelspec": {
   "display_name": "Python 3",
   "language": "python",
   "name": "python3"
  },
  "language_info": {
   "codemirror_mode": {
    "name": "ipython",
    "version": 3
   },
   "file_extension": ".py",
   "mimetype": "text/x-python",
   "name": "python",
   "nbconvert_exporter": "python",
   "pygments_lexer": "ipython3",
   "version": "3.8.2"
  }
 },
 "nbformat": 4,
 "nbformat_minor": 4
}
