{
 "cells": [
  {
   "cell_type": "code",
   "execution_count": 1,
   "metadata": {},
   "outputs": [],
   "source": [
    "#imports from Standard Libray"
   ]
  },
  {
   "cell_type": "code",
   "execution_count": 2,
   "metadata": {},
   "outputs": [],
   "source": [
    "#Other imports from library\n",
    "import resources #Must be 1st line\n",
    "from blcalc import root_dir\n",
    "from blcalc.excel_load import BoreholeDataSheets\n",
    "from blcalc.borehole_parser import BoreholeLog\n",
    "from blcalc.material import LayerSoil, MaterialData\n",
    "from blcalc.footing import Footing, FootingType, FootingData\n",
    "from blcalc.assembly import Assembly\n",
    "from blcalc.solver import Solver"
   ]
  },
  {
   "cell_type": "markdown",
   "metadata": {},
   "source": [
    "## Sample Calculation"
   ]
  },
  {
   "cell_type": "code",
   "execution_count": 3,
   "metadata": {},
   "outputs": [],
   "source": [
    "filepath = resources.test_data_dir() / \"bh1.xls\""
   ]
  },
  {
   "cell_type": "markdown",
   "metadata": {},
   "source": [
    "<img src=\"excel_screenshot/excel_sheet.png\">"
   ]
  },
  {
   "cell_type": "code",
   "execution_count": 4,
   "metadata": {},
   "outputs": [],
   "source": [
    "#Parse it first\n",
    "sheets = BoreholeDataSheets.load_file(str(filepath.resolve()))"
   ]
  },
  {
   "cell_type": "code",
   "execution_count": 5,
   "metadata": {},
   "outputs": [],
   "source": [
    "#Parse 1st sheet\n",
    "keys = list(sheets.keys())\n",
    "sheet = sheets[keys[0]]\n",
    "borehole_log = BoreholeLog(sheet)"
   ]
  },
  {
   "cell_type": "code",
   "execution_count": 6,
   "metadata": {},
   "outputs": [
    {
     "data": {
      "text/plain": [
       "{'project name': '<REMOVED>',\n",
       " 'location': 'Bhainsepati, Lalitpur',\n",
       " 'bore hole no': '1.0',\n",
       " 'diameter of bh, mm': '100.0',\n",
       " 'date': '<REMOVED>',\n",
       " 'logged by': '<REMOVED>',\n",
       " 'checked by': '<REMOVED>',\n",
       " 'certified by': '<REMOVED>'}"
      ]
     },
     "execution_count": 6,
     "metadata": {},
     "output_type": "execute_result"
    }
   ],
   "source": [
    "#Attributes obtained from data\n",
    "borehole_log.attributes"
   ]
  },
  {
   "cell_type": "code",
   "execution_count": 7,
   "metadata": {},
   "outputs": [
    {
     "data": {
      "text/plain": [
       "[{<SoilProperty.depth: 'depth'>: 1.5,\n",
       "  <SoilProperty.SPT_N: 'SPT_N'>: 11.0,\n",
       "  <SoilProperty.GI: 'GI'>: 'MI'},\n",
       " {<SoilProperty.depth: 'depth'>: 2.5,\n",
       "  <SoilProperty.SPT_N: 'SPT_N'>: 15.0,\n",
       "  <SoilProperty.GI: 'GI'>: 'MI'},\n",
       " {<SoilProperty.depth: 'depth'>: 3.0,\n",
       "  <SoilProperty.SPT_N: 'SPT_N'>: 17.0,\n",
       "  <SoilProperty.GI: 'GI'>: 'MI'},\n",
       " {<SoilProperty.depth: 'depth'>: 4.5,\n",
       "  <SoilProperty.SPT_N: 'SPT_N'>: 24.0,\n",
       "  <SoilProperty.GI: 'GI'>: 'GM'},\n",
       " {<SoilProperty.depth: 'depth'>: 6.0,\n",
       "  <SoilProperty.SPT_N: 'SPT_N'>: 27.0,\n",
       "  <SoilProperty.GI: 'GI'>: 'GM'},\n",
       " {<SoilProperty.depth: 'depth'>: 7.5,\n",
       "  <SoilProperty.SPT_N: 'SPT_N'>: 32.0,\n",
       "  <SoilProperty.GI: 'GI'>: 'GM'},\n",
       " {<SoilProperty.depth: 'depth'>: 9.0,\n",
       "  <SoilProperty.SPT_N: 'SPT_N'>: 36.0,\n",
       "  <SoilProperty.GI: 'GI'>: 'MG'},\n",
       " {<SoilProperty.depth: 'depth'>: 10.5,\n",
       "  <SoilProperty.SPT_N: 'SPT_N'>: 36.0,\n",
       "  <SoilProperty.GI: 'GI'>: 'GM'},\n",
       " {<SoilProperty.depth: 'depth'>: 12.0,\n",
       "  <SoilProperty.SPT_N: 'SPT_N'>: 37.0,\n",
       "  <SoilProperty.GI: 'GI'>: 'GM'}]"
      ]
     },
     "execution_count": 7,
     "metadata": {},
     "output_type": "execute_result"
    }
   ],
   "source": [
    "borehole_log.values\n",
    "#Add data in between"
   ]
  },
  {
   "cell_type": "code",
   "execution_count": 8,
   "metadata": {},
   "outputs": [],
   "source": [
    "soil_material = LayerSoil(borehole_log.values)\n",
    "soil_material[MaterialData.WaterDepth] = 0\n",
    "#for i in soil_material.get():\n",
    "#    print(i)"
   ]
  },
  {
   "cell_type": "code",
   "execution_count": 9,
   "metadata": {},
   "outputs": [
    {
     "name": "stdout",
     "output_type": "stream",
     "text": [
      "{<SoilProperty.depth: 'depth'>: 0.5, <SoilProperty.SPT_N: 'SPT_N'>: 11.0, <SoilProperty.GI: 'GI'>: 'ML', <SoilProperty.surcharge: 'surcharge'>: 8.9671875, <SoilProperty.N60: 'N60'>: 7.562500000000001, <SoilProperty.packing_case: 'packing_case'>: 2, <SoilProperty.gamma: 'gamma'>: 17.934375, <SoilProperty.cohesion: 'cohesion'>: 62.23104321145598, <SoilProperty.phi: 'phi'>: 0, <SoilProperty.elasticity: 'elasticity'>: 105875.00000000003, <SoilProperty.nu: 'nu'>: 0.5}\n",
      "{<SoilProperty.depth: 'depth'>: 2, <SoilProperty.SPT_N: 'SPT_N'>: 15.0, <SoilProperty.GI: 'GI'>: 'ML', <SoilProperty.surcharge: 'surcharge'>: 17.934374999999996, <SoilProperty.N60: 'N60'>: 10.312500000000002, <SoilProperty.packing_case: 'packing_case'>: 3, <SoilProperty.gamma: 'gamma'>: 18.346875, <SoilProperty.cohesion: 'cohesion'>: 77.8018734028283, <SoilProperty.phi: 'phi'>: 0, <SoilProperty.elasticity: 'elasticity'>: 144375.00000000003, <SoilProperty.nu: 'nu'>: 0.5}\n",
      "{<SoilProperty.depth: 'depth'>: 13, <SoilProperty.SPT_N: 'SPT_N'>: 37.0, <SoilProperty.GI: 'GI'>: 'GM', <SoilProperty.surcharge: 'surcharge'>: 209.9515625, <SoilProperty.N60: 'N60'>: 20.21875, <SoilProperty.packing_case: 'packing_case'>: 2, <SoilProperty.gamma: 'gamma'>: 18.021875, <SoilProperty.cohesion: 'cohesion'>: 0, <SoilProperty.phi: 'phi'>: 32.944874160156246, <SoilProperty.elasticity: 'elasticity'>: 10109.375, <SoilProperty.nu: 'nu'>: 0.3}\n"
     ]
    }
   ],
   "source": [
    "#find between\n",
    "print(soil_material.get(0.5))\n",
    "print(soil_material.get(2))\n",
    "print(soil_material.get(13))"
   ]
  },
  {
   "cell_type": "code",
   "execution_count": 10,
   "metadata": {},
   "outputs": [
    {
     "name": "stdout",
     "output_type": "stream",
     "text": [
      "{<FootingData.Type: 'Type'>: <FootingType.Square: 'Square'>, <FootingData.Width: 'Width'>: 2, <FootingData.Length: 'Length'>: 2, <FootingData.Depth: 'Depth'>: 1.5}\n"
     ]
    }
   ],
   "source": [
    "#define footing\n",
    "footing  = Footing()\n",
    "footing[FootingData.Type] = FootingType.Square\n",
    "footing[FootingData.Width] = 2\n",
    "footing[FootingData.Length] = 2\n",
    "footing[FootingData.Depth] = 1.5\n",
    "print(footing)"
   ]
  },
  {
   "cell_type": "code",
   "execution_count": 11,
   "metadata": {},
   "outputs": [],
   "source": [
    "#Create new assembly\n",
    "assembly = Assembly(footing, soil_material)"
   ]
  },
  {
   "cell_type": "code",
   "execution_count": 12,
   "metadata": {},
   "outputs": [
    {
     "name": "stdout",
     "output_type": "stream",
     "text": [
      "{<Methods.Terzaghi: 'Terzaghi'>: 462.1342987849142, <Methods.Meyerhof: 'Meyerhof'>: 441.55400541917663, <Methods.Hansen: 'Hansen'>: 535.0767993270872, <Methods.Bowels: 'Bowels'>: 1746908.83052653, <Methods.Vesic: 'Vesic'>: 535.0767993270872, <Methods.IS: 'IS'>: 2.8082460937500002, <Methods.Teng: 'Teng'>: 86.8216083984375}\n"
     ]
    }
   ],
   "source": [
    "#Calculate using solver\n",
    "solver = Solver(assembly)\n",
    "print(solver.run())"
   ]
  }
 ],
 "metadata": {
  "kernelspec": {
   "display_name": "Python 3",
   "language": "python",
   "name": "python3"
  },
  "language_info": {
   "codemirror_mode": {
    "name": "ipython",
    "version": 3
   },
   "file_extension": ".py",
   "mimetype": "text/x-python",
   "name": "python",
   "nbconvert_exporter": "python",
   "pygments_lexer": "ipython3",
   "version": "3.7.2"
  }
 },
 "nbformat": 4,
 "nbformat_minor": 4
}
